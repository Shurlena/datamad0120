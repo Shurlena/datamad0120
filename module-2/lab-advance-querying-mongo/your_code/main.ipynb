{
 "cells": [
  {
   "cell_type": "markdown",
   "metadata": {},
   "source": [
    "# Advanced Querying Mongo"
   ]
  },
  {
   "cell_type": "markdown",
   "metadata": {},
   "source": [
    "Importing libraries and setting up connection"
   ]
  },
  {
   "cell_type": "code",
   "execution_count": 30,
   "metadata": {},
   "outputs": [],
   "source": [
    "from pymongo import MongoClient\n",
    "client = MongoClient(\"mongodb://localhost/companies\")"
   ]
  },
  {
   "cell_type": "code",
   "execution_count": 31,
   "metadata": {},
   "outputs": [],
   "source": [
    "db = client.get_database()"
   ]
  },
  {
   "cell_type": "markdown",
   "metadata": {},
   "source": [
    "### 1. All the companies whose name match 'Babelgum'. Retrieve only their `name` field."
   ]
  },
  {
   "cell_type": "code",
   "execution_count": 32,
   "metadata": {},
   "outputs": [
    {
     "data": {
      "text/plain": [
       "[{'name': 'Babelgum'}]"
      ]
     },
     "execution_count": 32,
     "metadata": {},
     "output_type": "execute_result"
    }
   ],
   "source": [
    "query = {\"name\":\"Babelgum\"}\n",
    "\n",
    "list(db[\"companies\"].find((query),{\"name\":1,\"_id\":0}))"
   ]
  },
  {
   "cell_type": "markdown",
   "metadata": {},
   "source": [
    "### 2. All the companies that have more than 5000 employees. Limit the search to 20 companies and sort them by **number of employees**."
   ]
  },
  {
   "cell_type": "code",
   "execution_count": 33,
   "metadata": {},
   "outputs": [
    {
     "data": {
      "text/plain": [
       "{'_id': ObjectId('52cdef7d4bab8bd67529941a'),\n",
       " 'acquisition': None,\n",
       " 'acquisitions': [{'acquired_day': None,\n",
       "   'acquired_month': 10,\n",
       "   'acquired_year': 2009,\n",
       "   'company': {'name': 'Solel Solar Systems',\n",
       "    'permalink': 'solel-solar-systems'},\n",
       "   'price_amount': 418000000,\n",
       "   'price_currency_code': 'USD',\n",
       "   'source_description': 'Siemens Buys Solel for $418M',\n",
       "   'source_url': 'http://www.greentechmedia.com/articles/read/siemens-buys-solel-for-418-million/',\n",
       "   'term_code': None},\n",
       "  {'acquired_day': 1,\n",
       "   'acquired_month': 10,\n",
       "   'acquired_year': 2010,\n",
       "   'company': {'name': 'SureGrid', 'permalink': 'suregrid'},\n",
       "   'price_amount': None,\n",
       "   'price_currency_code': 'USD',\n",
       "   'source_description': 'Siemens Buys SureGrid Amid Building Management Fever',\n",
       "   'source_url': 'http://www.greentechmedia.com/articles/read/siemens-buys-suregrid-amid-building-management-fever/',\n",
       "   'term_code': None},\n",
       "  {'acquired_day': 18,\n",
       "   'acquired_month': 3,\n",
       "   'acquired_year': 2005,\n",
       "   'company': {'name': 'CTI Molecular Imaging',\n",
       "    'permalink': 'cti-molecular-imaging'},\n",
       "   'price_amount': 1000000000,\n",
       "   'price_currency_code': 'USD',\n",
       "   'source_description': 'Siemens to buy CTI Molecular Imaging, Inc., for $1 billion   Read more: Siemens to buy CTI Molecular Imaging, Inc., for $1 billion | Memphis Business Journal ',\n",
       "   'source_url': 'http://www.bizjournals.com/memphis/stories/2005/03/14/daily44.html',\n",
       "   'term_code': None},\n",
       "  {'acquired_day': 9,\n",
       "   'acquired_month': 11,\n",
       "   'acquired_year': 2011,\n",
       "   'company': {'name': 'Vistagy', 'permalink': 'vistagy'},\n",
       "   'price_amount': None,\n",
       "   'price_currency_code': 'USD',\n",
       "   'source_description': 'Siemens buys Waltham CAD software maker Vistagy',\n",
       "   'source_url': 'http://www.masshightech.com/stories/2011/11/07/daily20-Siemens-buys-Waltham-CAD-software-maker-Vistagy.html',\n",
       "   'term_code': None},\n",
       "  {'acquired_day': 6,\n",
       "   'acquired_month': 12,\n",
       "   'acquired_year': 2011,\n",
       "   'company': {'name': 'eMeter', 'permalink': 'emeter'},\n",
       "   'price_amount': None,\n",
       "   'price_currency_code': 'USD',\n",
       "   'source_description': 'Siemens Buys eMeter To Bolster Its Smart Grid Division',\n",
       "   'source_url': 'http://techcrunch.com/2011/12/05/siemens-buys-emeter-to-bolster-its-smart-grid-division/',\n",
       "   'term_code': None},\n",
       "  {'acquired_day': 3,\n",
       "   'acquired_month': 6,\n",
       "   'acquired_year': 2013,\n",
       "   'company': {'name': 'The Preactor Group',\n",
       "    'permalink': 'preactor-international-ltd'},\n",
       "   'price_amount': None,\n",
       "   'price_currency_code': 'USD',\n",
       "   'source_description': 'Siemens Aquires Preactor',\n",
       "   'source_url': 'http://www.siemens.com/press/en/pressrelease/?press=/en/pressrelease/2013/industry/industry-automation/iia2013063008.htm',\n",
       "   'term_code': None}],\n",
       " 'alias_list': '',\n",
       " 'blog_feed_url': '',\n",
       " 'blog_url': '',\n",
       " 'category_code': 'hardware',\n",
       " 'competitions': [],\n",
       " 'created_at': 'Thu Jul 31 09:29:43 UTC 2008',\n",
       " 'crunchbase_url': 'http://www.crunchbase.com/company/siemens',\n",
       " 'deadpooled_day': None,\n",
       " 'deadpooled_month': None,\n",
       " 'deadpooled_url': None,\n",
       " 'deadpooled_year': None,\n",
       " 'description': 'Electronics and Electrical Engineering',\n",
       " 'email_address': 'contact@siemens.com',\n",
       " 'external_links': [],\n",
       " 'founded_day': None,\n",
       " 'founded_month': None,\n",
       " 'founded_year': 1847,\n",
       " 'funding_rounds': [{'funded_day': 19,\n",
       "   'funded_month': 7,\n",
       "   'funded_year': 2010,\n",
       "   'id': 17062,\n",
       "   'investments': [{'company': None,\n",
       "     'financial_org': {'name': 'U.S. Department of Energy',\n",
       "      'permalink': 'u-s-department-of-energy'},\n",
       "     'person': None}],\n",
       "   'raised_amount': 8900000,\n",
       "   'raised_currency_code': 'USD',\n",
       "   'round_code': 'grant',\n",
       "   'source_description': 'Siemens Awarded $8.9 Million For Clean Coal Plant',\n",
       "   'source_url': 'http://www.thealarmclock.com/mt/archives/2010/07/siemens_awarded.html'}],\n",
       " 'homepage_url': 'http://www.siemens.com',\n",
       " 'image': {'attribution': None,\n",
       "  'available_sizes': [[[150, 34],\n",
       "    'assets/images/resized/0006/5139/65139v2-max-150x150.jpg'],\n",
       "   [[250, 58], 'assets/images/resized/0006/5139/65139v2-max-250x250.jpg'],\n",
       "   [[450, 104], 'assets/images/resized/0006/5139/65139v2-max-450x450.jpg']]},\n",
       " 'investments': [],\n",
       " 'ipo': {'pub_day': 23,\n",
       "  'pub_month': 3,\n",
       "  'pub_year': 2001,\n",
       "  'stock_symbol': 'NYSE:SI',\n",
       "  'valuation_amount': None,\n",
       "  'valuation_currency_code': 'USD'},\n",
       " 'milestones': [{'description': 'Siemens Receives €1.8 Billion Order for U.K. Trains ',\n",
       "   'id': 35852,\n",
       "   'source_description': 'Siemens Receives €1.8 Billion Order for U.K. Trains ',\n",
       "   'source_text': '',\n",
       "   'source_url': 'http://online.wsj.com/article/SB10001424127887323419604578571470024685266.html?mod=europe_home',\n",
       "   'stoneable': {'name': 'Siemens', 'permalink': 'siemens'},\n",
       "   'stoneable_type': 'Company',\n",
       "   'stoned_acquirer': None,\n",
       "   'stoned_day': 27,\n",
       "   'stoned_month': 6,\n",
       "   'stoned_value': None,\n",
       "   'stoned_value_type': None,\n",
       "   'stoned_year': 2013}],\n",
       " 'name': 'Siemens',\n",
       " 'number_of_employees': 405000,\n",
       " 'offices': [{'address1': 'Wittelsbacherplatz 2',\n",
       "   'address2': '',\n",
       "   'city': 'Munich',\n",
       "   'country_code': 'DEU',\n",
       "   'description': '',\n",
       "   'latitude': None,\n",
       "   'longitude': None,\n",
       "   'state_code': None,\n",
       "   'zip_code': '80333'}],\n",
       " 'overview': '<p>Siemens AG, an electronics and electrical engineering company, operates in the industry, energy, and healthcare sectors worldwide. The company, formerly known as Siemens &amp; Halske, was founded in 1847 and is headquartered in Munich, Germany. Siemens&#8217; principal activities are in the fields of industry, energy, transportation and healthcare. It is organized into five main divisions: Industry, Energy, Healthcare, Infrastructure &amp; Cities, and Siemens Financial Services (SFS). Siemens and its subsidiaries employ approximately 360,000 people across nearly 190 countries and reported global revenue of approximately 73.5 billion euros for the year of 2011.</p>\\n\\n<p>In the industry sector, the company&#8217;s portfolio ranges from industry automation and drives products and services to building, lighting, and mobility solutions and services, as well as includes system integration and solutions for plant business. It offers automation and drives, industrial solutions and services, transportation systems, Siemens building technologies, and OSRAM lighting solutions. </p>\\n\\n<p>In the energy sector, the company provides various solutions for the generation, transmission, and distribution of power, as well as for the extraction, conversion, and transport of oil and gas in the oil and gas industry. Siemens Energy Service delivers service solutions for gas turbines, steam turbines, generators or wind turbines to increase efficiency, reliability and availability throughout the entire lifecycle. From modernizations and upgrades, remote monitoring, lifetime extensions, and condition monitoring to logistical and turnkey service for onshore and offshore wind turbines, Siemens energy services work to achieve maximum success and efficiency.</p>\\n\\n<p>In the healthcare sector, Siemens develops, manufactures, and markets diagnostic and therapeutic systems, devices, and consumables, as well as offers IT systems for clinical and administrative purposes. </p>\\n\\n<p>Other services include technical maintenance, professional, and consulting services. Siemens AG offers IT solutions and services, primarily information and communications systems. Further, the company provides financial products and services comprising commercial finance, equity and project finance, treasury and investment management, and project and export finance. Siemens AG offers insurance solutions, such as claims management, as well as acts as a broker of company-financed insurances for employees on business trips and foreign assignments. </p>\\n\\n<p>The company has equity investments in Nokia Siemens Networks B.V., a telecommunications infrastructure company; and BSH Bosch und Siemens Hausgerate GmbH, a household appliance producer. </p>',\n",
       " 'partners': [],\n",
       " 'permalink': 'siemens',\n",
       " 'phone_number': '49 89 636 34134',\n",
       " 'products': [],\n",
       " 'providerships': [{'is_past': False,\n",
       "   'provider': {'name': 'Mercury Digital Agency',\n",
       "    'permalink': 'mercury-digital-agency'},\n",
       "   'title': 'Application Development'},\n",
       "  {'is_past': True,\n",
       "   'provider': {'name': '_STRATEGY Global Business Development',\n",
       "    'permalink': 'strategy-global-business-development'},\n",
       "   'title': ''}],\n",
       " 'relationships': [{'is_past': False,\n",
       "   'person': {'first_name': 'Dr. Gerhard',\n",
       "    'last_name': 'Cromme',\n",
       "    'permalink': 'dr-gerhard-cromme'},\n",
       "   'title': 'Chairman, Supervisory Board'},\n",
       "  {'is_past': False,\n",
       "   'person': {'first_name': 'Joe',\n",
       "    'last_name': 'Kaeser',\n",
       "    'permalink': 'joe-kaeser'},\n",
       "   'title': 'President & CEO'},\n",
       "  {'is_past': False,\n",
       "   'person': {'first_name': 'Thomas',\n",
       "    'last_name': 'Lackner',\n",
       "    'permalink': 'thomas-lackner-2'},\n",
       "   'title': 'Head of the Open Innovation Program at the Chief Technology Office'},\n",
       "  {'is_past': False,\n",
       "   'person': {'first_name': 'Ralf',\n",
       "    'last_name': 'P. Thomas',\n",
       "    'permalink': 'ralf-p-thomas'},\n",
       "   'title': 'CFO'},\n",
       "  {'is_past': False,\n",
       "   'person': {'first_name': 'Ali',\n",
       "    'last_name': 'Ugur',\n",
       "    'permalink': 'ali-ugur'},\n",
       "   'title': 'Softare Engineer'},\n",
       "  {'is_past': False,\n",
       "   'person': {'first_name': 'Jens',\n",
       "    'last_name': 'Dressler',\n",
       "    'permalink': 'jens-dressler'},\n",
       "   'title': 'Team Member'},\n",
       "  {'is_past': False,\n",
       "   'person': {'first_name': 'Debjit',\n",
       "    'last_name': 'Mukerji',\n",
       "    'permalink': 'debjit-mukerji'},\n",
       "   'title': 'Director of Venture Technology'},\n",
       "  {'is_past': False,\n",
       "   'person': {'first_name': 'Roland',\n",
       "    'last_name': 'Busch',\n",
       "    'permalink': 'roland-busch'},\n",
       "   'title': 'Managing Board'},\n",
       "  {'is_past': False,\n",
       "   'person': {'first_name': 'Barbara',\n",
       "    'last_name': 'Kux',\n",
       "    'permalink': 'barbara-kux'},\n",
       "   'title': 'Managing Board'},\n",
       "  {'is_past': False,\n",
       "   'person': {'first_name': 'Siegfried',\n",
       "    'last_name': 'Russwurm',\n",
       "    'permalink': 'siegfried-russwurm'},\n",
       "   'title': 'Managing Board'},\n",
       "  {'is_past': False,\n",
       "   'person': {'first_name': 'Michael',\n",
       "    'last_name': 'Suess',\n",
       "    'permalink': 'michael-suess'},\n",
       "   'title': 'Managing Board'},\n",
       "  {'is_past': False,\n",
       "   'person': {'first_name': 'Werner',\n",
       "    'last_name': 'Wenning',\n",
       "    'permalink': 'werner-wenning'},\n",
       "   'title': 'Supervisory Boards'},\n",
       "  {'is_past': False,\n",
       "   'person': {'first_name': 'Gerd',\n",
       "    'last_name': 'von Brandenstein',\n",
       "    'permalink': 'gerd-von-brandenstein'},\n",
       "   'title': 'Supervisory Board'},\n",
       "  {'is_past': False,\n",
       "   'person': {'first_name': 'Hans Michael',\n",
       "    'last_name': 'Gaul',\n",
       "    'permalink': 'hans-michael-gaul'},\n",
       "   'title': 'Audit Committee'},\n",
       "  {'is_past': False,\n",
       "   'person': {'first_name': 'Bettina',\n",
       "    'last_name': 'Haller',\n",
       "    'permalink': 'bettina-haller'},\n",
       "   'title': 'Supervisory Board'},\n",
       "  {'is_past': False,\n",
       "   'person': {'first_name': 'Robert',\n",
       "    'last_name': 'Kensbock',\n",
       "    'permalink': 'robert-kensbock'},\n",
       "   'title': 'Supervisory Board'},\n",
       "  {'is_past': False,\n",
       "   'person': {'first_name': 'Harald',\n",
       "    'last_name': 'Kern',\n",
       "    'permalink': 'harald-kern'},\n",
       "   'title': 'Supervisory Board'},\n",
       "  {'is_past': False,\n",
       "   'person': {'first_name': 'Nicola',\n",
       "    'last_name': 'Leibinger-Kammüller',\n",
       "    'permalink': 'nicola-leibinger-kammller'},\n",
       "   'title': 'Supervisory Board'},\n",
       "  {'is_past': False,\n",
       "   'person': {'first_name': 'Güler',\n",
       "    'last_name': 'Sabancı',\n",
       "    'permalink': 'gler-sabanc'},\n",
       "   'title': 'Supervisory Board'},\n",
       "  {'is_past': False,\n",
       "   'person': {'first_name': 'Birgit',\n",
       "    'last_name': 'Steinborn',\n",
       "    'permalink': 'birgit-steinborn'},\n",
       "   'title': 'Supervisory Board'},\n",
       "  {'is_past': False,\n",
       "   'person': {'first_name': 'Alex',\n",
       "    'last_name': 'Beregszaszi',\n",
       "    'permalink': 'alex-beregszaszi'},\n",
       "   'title': 'Software Engineer'},\n",
       "  {'is_past': False,\n",
       "   'person': {'first_name': 'Elnar',\n",
       "    'last_name': 'Hajiyev',\n",
       "    'permalink': 'elnar-hajiyev'},\n",
       "   'title': ''},\n",
       "  {'is_past': False,\n",
       "   'person': {'first_name': 'Deniss',\n",
       "    'last_name': 'Belajevs',\n",
       "    'permalink': 'deniss-belajevs'},\n",
       "   'title': 'Team Member'},\n",
       "  {'is_past': False,\n",
       "   'person': {'first_name': 'Nigel',\n",
       "    'last_name': 'Vaz',\n",
       "    'permalink': 'nigel-vaz'},\n",
       "   'title': 'Advisor'},\n",
       "  {'is_past': False,\n",
       "   'person': {'first_name': 'Klaus',\n",
       "    'last_name': 'Helmrich',\n",
       "    'permalink': 'klaus-helmrich'},\n",
       "   'title': 'Managing Board'},\n",
       "  {'is_past': False,\n",
       "   'person': {'first_name': 'Hermann',\n",
       "    'last_name': 'Requardt',\n",
       "    'permalink': 'hermann-requardt'},\n",
       "   'title': 'Managing Board'},\n",
       "  {'is_past': False,\n",
       "   'person': {'first_name': 'Peter',\n",
       "    'last_name': 'Y. Solmssen',\n",
       "    'permalink': 'peter-y-solmssen'},\n",
       "   'title': 'Managing Board'},\n",
       "  {'is_past': False,\n",
       "   'person': {'first_name': 'Berthold',\n",
       "    'last_name': 'Huber',\n",
       "    'permalink': 'berthold-huber'},\n",
       "   'title': 'Supervisory Board'},\n",
       "  {'is_past': False,\n",
       "   'person': {'first_name': 'Lothar',\n",
       "    'last_name': 'Adler',\n",
       "    'permalink': 'lothar-adler'},\n",
       "   'title': 'Central Works Council'},\n",
       "  {'is_past': False,\n",
       "   'person': {'first_name': 'Michael',\n",
       "    'last_name': 'Diekmann',\n",
       "    'permalink': 'michael-diekmann'},\n",
       "   'title': 'Supervisory Board'},\n",
       "  {'is_past': False,\n",
       "   'person': {'first_name': 'Peter',\n",
       "    'last_name': 'Gruss',\n",
       "    'permalink': 'peter-gruss'},\n",
       "   'title': 'Supervisory Board'},\n",
       "  {'is_past': False,\n",
       "   'person': {'first_name': 'Hans-Jürgen',\n",
       "    'last_name': 'Hartung',\n",
       "    'permalink': 'hans-jrgen-hartung'},\n",
       "   'title': 'Supervisory Board'},\n",
       "  {'is_past': False,\n",
       "   'person': {'first_name': 'Harald',\n",
       "    'last_name': 'Kern',\n",
       "    'permalink': 'harald-kern'},\n",
       "   'title': 'Central Works Council'},\n",
       "  {'is_past': False,\n",
       "   'person': {'first_name': 'Jürgen',\n",
       "    'last_name': 'Kerner',\n",
       "    'permalink': 'jrgen-kerner'},\n",
       "   'title': 'Supervisory Board'},\n",
       "  {'is_past': False,\n",
       "   'person': {'first_name': 'Gérard',\n",
       "    'last_name': 'Mestrallet',\n",
       "    'permalink': 'grard-mestrallet'},\n",
       "   'title': 'Supervisory Board'},\n",
       "  {'is_past': False,\n",
       "   'person': {'first_name': 'Rainer',\n",
       "    'last_name': 'Sieg',\n",
       "    'permalink': 'rainer-sieg'},\n",
       "   'title': 'Committee of Spokespersons'},\n",
       "  {'is_past': False,\n",
       "   'person': {'first_name': 'Sibylle',\n",
       "    'last_name': 'Wankel',\n",
       "    'permalink': 'sibylle-wankel'},\n",
       "   'title': 'Supervisory Board'},\n",
       "  {'is_past': False,\n",
       "   'person': {'first_name': 'Ayman',\n",
       "    'last_name': 'Fawaz',\n",
       "    'permalink': 'ayman-fawaz'},\n",
       "   'title': 'Director, Venture Technology - USA'},\n",
       "  {'is_past': True,\n",
       "   'person': {'first_name': 'Mike',\n",
       "    'last_name': 'Brooks',\n",
       "    'permalink': 'mike-brooks'},\n",
       "   'title': 'Founder (INDX Software)'},\n",
       "  {'is_past': True,\n",
       "   'person': {'first_name': 'F.',\n",
       "    'last_name': 'Steven Feinberg',\n",
       "    'permalink': 'f-steven-feinberg'},\n",
       "   'title': 'President and CEO'},\n",
       "  {'is_past': True,\n",
       "   'person': {'first_name': 'Kerry',\n",
       "    'last_name': 'Stover',\n",
       "    'permalink': 'kerry-stover'},\n",
       "   'title': 'Chief Information Officer'},\n",
       "  {'is_past': True,\n",
       "   'person': {'first_name': 'Thorsten',\n",
       "    'last_name': 'Heins',\n",
       "    'permalink': 'thorsten-heins'},\n",
       "   'title': 'CTO, Communications Division'},\n",
       "  {'is_past': True,\n",
       "   'person': {'first_name': 'Christian',\n",
       "    'last_name': 'Behrenbruch',\n",
       "    'permalink': 'christian-behrenbruch'},\n",
       "   'title': 'Vice President at Siemens Molecular Imaging'},\n",
       "  {'is_past': True,\n",
       "   'person': {'first_name': 'Bob',\n",
       "    'last_name': 'Hunsberger',\n",
       "    'permalink': 'bob-hunsberger'},\n",
       "   'title': 'SVP / GM - Siemens Wireless Terminals'},\n",
       "  {'is_past': True,\n",
       "   'person': {'first_name': 'Julien',\n",
       "    'last_name': 'Dahan',\n",
       "    'permalink': 'julien-dahan'},\n",
       "   'title': 'EVP'},\n",
       "  {'is_past': True,\n",
       "   'person': {'first_name': 'Peter',\n",
       "    'last_name': 'Kingma',\n",
       "    'permalink': 'peter-kingma'},\n",
       "   'title': 'Global Vice President of CT Sales & Marketing, Managing Director Siemens Medical'},\n",
       "  {'is_past': True,\n",
       "   'person': {'first_name': 'Robert',\n",
       "    'last_name': 'Bongi',\n",
       "    'permalink': 'robert-bongi'},\n",
       "   'title': 'Vice President'},\n",
       "  {'is_past': True,\n",
       "   'person': {'first_name': 'Salim',\n",
       "    'last_name': 'Khan',\n",
       "    'permalink': 'salim-khan'},\n",
       "   'title': 'VP, GM, Asia-Pacific & EMEA'},\n",
       "  {'is_past': True,\n",
       "   'person': {'first_name': 'Jason',\n",
       "    'last_name': 'Mackenzie',\n",
       "    'permalink': 'jason-mackenzie'},\n",
       "   'title': 'Vice President, T-Mobile USA Account'},\n",
       "  {'is_past': True,\n",
       "   'person': {'first_name': 'Tom',\n",
       "    'last_name': 'Racca',\n",
       "    'permalink': 'tom-racca'},\n",
       "   'title': 'VP, Wireless Solutions'},\n",
       "  {'is_past': True,\n",
       "   'person': {'first_name': 'Leif',\n",
       "    'last_name': 'Pedersen',\n",
       "    'permalink': 'leif-pedersen'},\n",
       "   'title': 'Vice President'},\n",
       "  {'is_past': True,\n",
       "   'person': {'first_name': 'Ryan',\n",
       "    'last_name': 'Petty',\n",
       "    'permalink': 'ryan-petty'},\n",
       "   'title': 'Vice President, Product LIne Management'},\n",
       "  {'is_past': True,\n",
       "   'person': {'first_name': 'Henning',\n",
       "    'last_name': 'Kosmack',\n",
       "    'permalink': 'henning-kosmack'},\n",
       "   'title': 'Director M&A, Venturing & Partnering'},\n",
       "  {'is_past': True,\n",
       "   'person': {'first_name': 'Tom',\n",
       "    'last_name': 'Warren',\n",
       "    'permalink': 'tom-warren'},\n",
       "   'title': ''},\n",
       "  {'is_past': True,\n",
       "   'person': {'first_name': 'Sujit',\n",
       "    'last_name': 'Nair',\n",
       "    'permalink': 'sujit-nair'},\n",
       "   'title': 'Systems Engineer'},\n",
       "  {'is_past': True,\n",
       "   'person': {'first_name': 'Rainer',\n",
       "    'last_name': 'Maerkle',\n",
       "    'permalink': 'rainer-maerkle'},\n",
       "   'title': 'Sales'},\n",
       "  {'is_past': True,\n",
       "   'person': {'first_name': 'Ilan',\n",
       "    'last_name': 'Vardi',\n",
       "    'permalink': 'ilan-vardi'},\n",
       "   'title': 'Senior Manager'},\n",
       "  {'is_past': True,\n",
       "   'person': {'first_name': 'Gregoire',\n",
       "    'last_name': 'jaunin',\n",
       "    'permalink': 'gregoire-jaunin'},\n",
       "   'title': 'Software Engineer'},\n",
       "  {'is_past': True,\n",
       "   'person': {'first_name': 'Jeff',\n",
       "    'last_name': 'Crowe',\n",
       "    'permalink': 'jeff-crowe'},\n",
       "   'title': 'Division Manager'},\n",
       "  {'is_past': True,\n",
       "   'person': {'first_name': 'George',\n",
       "    'last_name': 'Liou',\n",
       "    'permalink': 'george-liou'},\n",
       "   'title': 'number of ground breaking projects'},\n",
       "  {'is_past': True,\n",
       "   'person': {'first_name': 'David',\n",
       "    'last_name': 'Wood',\n",
       "    'permalink': 'david-wood'},\n",
       "   'title': 'Senior Project Engineer'},\n",
       "  {'is_past': True,\n",
       "   'person': {'first_name': 'Zikria',\n",
       "    'last_name': 'Syed',\n",
       "    'permalink': 'zikria-syed'},\n",
       "   'title': 'Sr. Programmer Analyst'},\n",
       "  {'is_past': True,\n",
       "   'person': {'first_name': 'Neil',\n",
       "    'last_name': 'Harmsworth',\n",
       "    'permalink': 'neil-harmsworth'},\n",
       "   'title': 'Business Development & Partnerships'},\n",
       "  {'is_past': True,\n",
       "   'person': {'first_name': 'Christian',\n",
       "    'last_name': 'Berczely',\n",
       "    'permalink': 'christian-berczely'},\n",
       "   'title': 'Internet Expert - Software Developer'},\n",
       "  {'is_past': True,\n",
       "   'person': {'first_name': 'Scott',\n",
       "    'last_name': 'Davis',\n",
       "    'permalink': 'scott-davis-4'},\n",
       "   'title': 'Sales Engineer for Siemens Energy and Automation'},\n",
       "  {'is_past': True,\n",
       "   'person': {'first_name': 'Stefan',\n",
       "    'last_name': 'Kalteis',\n",
       "    'permalink': 'stefan-kalteis'},\n",
       "   'title': 'Summer Venture Manager'},\n",
       "  {'is_past': True,\n",
       "   'person': {'first_name': 'Andrea',\n",
       "    'last_name': 'Roesch',\n",
       "    'permalink': 'andrea-roesch'},\n",
       "   'title': 'Localization Specialist'},\n",
       "  {'is_past': True,\n",
       "   'person': {'first_name': 'Fahri',\n",
       "    'last_name': 'Diner',\n",
       "    'permalink': 'fahri-diner'},\n",
       "   'title': 'Director, Product Line Management'},\n",
       "  {'is_past': True,\n",
       "   'person': {'first_name': 'Xiao',\n",
       "    'last_name': 'Ling Dong',\n",
       "    'permalink': 'xiao-ling-dong'},\n",
       "   'title': 'Manager, IS Officer'},\n",
       "  {'is_past': True,\n",
       "   'person': {'first_name': 'Stefan',\n",
       "    'last_name': 'Will',\n",
       "    'permalink': 'stefan-will'},\n",
       "   'title': 'Intern (Software Development)'},\n",
       "  {'is_past': True,\n",
       "   'person': {'first_name': 'Bianca',\n",
       "    'last_name': 'Busetti',\n",
       "    'permalink': 'bianca-busetti'},\n",
       "   'title': 'Internship Industrial Design'},\n",
       "  {'is_past': True,\n",
       "   'person': {'first_name': 'Elena',\n",
       "    'last_name': 'Fironova',\n",
       "    'permalink': 'elena-fironova'},\n",
       "   'title': 'Intern'},\n",
       "  {'is_past': True,\n",
       "   'person': {'first_name': 'Vincent',\n",
       "    'last_name': 'Graziani',\n",
       "    'permalink': 'vincent-graziani'},\n",
       "   'title': 'Senior Management Positions'},\n",
       "  {'is_past': True,\n",
       "   'person': {'first_name': 'Walter',\n",
       "    'last_name': 'Lowes',\n",
       "    'permalink': 'walter-lowes'},\n",
       "   'title': 'Senior Director, Sales & Marketing'},\n",
       "  {'is_past': True,\n",
       "   'person': {'first_name': 'Jim',\n",
       "    'last_name': 'Harlan',\n",
       "    'permalink': 'jim-harlan'},\n",
       "   'title': 'IP Counsel'},\n",
       "  {'is_past': True,\n",
       "   'person': {'first_name': 'Ping',\n",
       "    'last_name': 'Zhang',\n",
       "    'permalink': 'ping-zhang'},\n",
       "   'title': 'Software Engineering Manager'},\n",
       "  {'is_past': True,\n",
       "   'person': {'first_name': 'Elnar',\n",
       "    'last_name': 'Hajiyev',\n",
       "    'permalink': 'elnar-hajiyev'},\n",
       "   'title': 'Software Engineer'},\n",
       "  {'is_past': True,\n",
       "   'person': {'first_name': 'Scott',\n",
       "    'last_name': 'Gorton',\n",
       "    'permalink': 'scott-gorton'},\n",
       "   'title': 'Financial Advisor'},\n",
       "  {'is_past': True,\n",
       "   'person': {'first_name': 'Vernon',\n",
       "    'last_name': 'Warner',\n",
       "    'permalink': 'vernon-warner'},\n",
       "   'title': 'Project Management'},\n",
       "  {'is_past': True,\n",
       "   'person': {'first_name': 'Tormod',\n",
       "    'last_name': 'Larsen',\n",
       "    'permalink': 'tormod-larsen'},\n",
       "   'title': 'Global Product Manager for Repeater and Confined Area Communication Systems'},\n",
       "  {'is_past': True,\n",
       "   'person': {'first_name': 'Srinivas',\n",
       "    'last_name': 'Muktevi',\n",
       "    'permalink': 'srinivas-muktevi'},\n",
       "   'title': 'Core Product Development'},\n",
       "  {'is_past': True,\n",
       "   'person': {'first_name': 'Claus',\n",
       "    'last_name': 'Thorsgaard',\n",
       "    'permalink': 'claus-thorsgaard'},\n",
       "   'title': 'Sales and Marketing'},\n",
       "  {'is_past': True,\n",
       "   'person': {'first_name': 'Joe',\n",
       "    'last_name': 'Regnery',\n",
       "    'permalink': 'joe-regnery'},\n",
       "   'title': 'Contracts Manager'},\n",
       "  {'is_past': True,\n",
       "   'person': {'first_name': 'Steve',\n",
       "    'last_name': 'Hane',\n",
       "    'permalink': 'steve-hane'},\n",
       "   'title': 'Leadership in Strategic-Partnership Developments'},\n",
       "  {'is_past': True,\n",
       "   'person': {'first_name': 'Denise',\n",
       "    'last_name': 'Haylor',\n",
       "    'permalink': 'denise-haylor'},\n",
       "   'title': 'HR Leader'},\n",
       "  {'is_past': True,\n",
       "   'person': {'first_name': 'Steve',\n",
       "    'last_name': 'Madeira',\n",
       "    'permalink': 'steve-madeira'},\n",
       "   'title': 'Systems Engineering and Sales Management'},\n",
       "  {'is_past': True,\n",
       "   'person': {'first_name': 'Armin',\n",
       "    'last_name': 'Anders',\n",
       "    'permalink': 'armin-anders'},\n",
       "   'title': 'Assistant to the Central Executive'},\n",
       "  {'is_past': True,\n",
       "   'person': {'first_name': 'Kevin',\n",
       "    'last_name': 'Owczarzak',\n",
       "    'permalink': 'kevin-owczarzak'},\n",
       "   'title': 'Supply Chain Management  &  Business Development'},\n",
       "  {'is_past': True,\n",
       "   'person': {'first_name': 'Marietta',\n",
       "    'last_name': 'Harvey',\n",
       "    'permalink': 'marietta-harvey'},\n",
       "   'title': 'Senior Human Resources Role'},\n",
       "  {'is_past': True,\n",
       "   'person': {'first_name': 'Barry',\n",
       "    'last_name': 'Fidelman',\n",
       "    'permalink': 'barry-fidelman'},\n",
       "   'title': 'Board of Directors (Castle Networks)'},\n",
       "  {'is_past': True,\n",
       "   'person': {'first_name': 'Ed',\n",
       "    'last_name': 'Farrell',\n",
       "    'permalink': 'ed-farrell'},\n",
       "   'title': 'Led a site Manufacturing and Developing'},\n",
       "  {'is_past': True,\n",
       "   'person': {'first_name': 'Rosemary',\n",
       "    'last_name': 'Lokhorst',\n",
       "    'permalink': 'rosemary-lokhorst'},\n",
       "   'title': 'Country Manager (Sales and Business Development)'},\n",
       "  {'is_past': True,\n",
       "   'person': {'first_name': 'K.',\n",
       "    'last_name': 'Cyrus Hadavi',\n",
       "    'permalink': 'k-cyrus-hadavi'},\n",
       "   'title': 'Researcher'},\n",
       "  {'is_past': True,\n",
       "   'person': {'first_name': 'Hanjiang',\n",
       "    'last_name': 'Wang',\n",
       "    'permalink': 'hanjiang-wang'},\n",
       "   'title': 'Software Engineer'},\n",
       "  {'is_past': True,\n",
       "   'person': {'first_name': 'Bejoy',\n",
       "    'last_name': 'Jaison',\n",
       "    'permalink': 'bejoy-jaison'},\n",
       "   'title': 'Software Development'},\n",
       "  {'is_past': True,\n",
       "   'person': {'first_name': 'David',\n",
       "    'last_name': 'Putnam',\n",
       "    'permalink': 'david-putnam'},\n",
       "   'title': 'Manager, Channel Sales'},\n",
       "  {'is_past': True,\n",
       "   'person': {'first_name': 'Kamlesh',\n",
       "    'last_name': 'Pant',\n",
       "    'permalink': 'kamlesh-pant'},\n",
       "   'title': 'Technical Leader'},\n",
       "  {'is_past': True,\n",
       "   'person': {'first_name': 'Ricky',\n",
       "    'last_name': 'Arora',\n",
       "    'permalink': 'ricky-arora'},\n",
       "   'title': 'Engineer'},\n",
       "  {'is_past': True,\n",
       "   'person': {'first_name': 'Medha',\n",
       "    'last_name': 'Vedaprakash',\n",
       "    'permalink': 'medha-vedaprakash'},\n",
       "   'title': 'Product Manager, Project Lead'},\n",
       "  {'is_past': True,\n",
       "   'person': {'first_name': 'Jan',\n",
       "    'last_name': 'van Dokkum',\n",
       "    'permalink': 'jan-van-dokkum'},\n",
       "   'title': 'Various management positions'},\n",
       "  {'is_past': True,\n",
       "   'person': {'first_name': 'David',\n",
       "    'last_name': 'Corre',\n",
       "    'permalink': 'david-corre'},\n",
       "   'title': 'Controller'},\n",
       "  {'is_past': True,\n",
       "   'person': {'first_name': 'Daphne',\n",
       "    'last_name': 'Thomas',\n",
       "    'permalink': 'daphne-thomas'},\n",
       "   'title': 'Director, Decision Support'},\n",
       "  {'is_past': True,\n",
       "   'person': {'first_name': 'Anibal',\n",
       "    'last_name': 'Damiao',\n",
       "    'permalink': 'anibal-damiao'},\n",
       "   'title': 'Software Engineer, New Product Development'},\n",
       "  {'is_past': True,\n",
       "   'person': {'first_name': 'Sid',\n",
       "    'last_name': 'Fein',\n",
       "    'permalink': 'sid-fein'},\n",
       "   'title': 'Board Member'},\n",
       "  {'is_past': True,\n",
       "   'person': {'first_name': 'Jeffrey',\n",
       "    'last_name': 'Crowe',\n",
       "    'permalink': 'jeffrey-crowe'},\n",
       "   'title': 'Division Manager'},\n",
       "  {'is_past': True,\n",
       "   'person': {'first_name': 'Lemuel',\n",
       "    'last_name': 'Park',\n",
       "    'permalink': 'lemuel-park'},\n",
       "   'title': 'Software Engineer'},\n",
       "  {'is_past': True,\n",
       "   'person': {'first_name': 'Florian',\n",
       "    'last_name': 'Seiche',\n",
       "    'permalink': 'florian-seiche'},\n",
       "   'title': 'Vice President, Mobile Phones North America'},\n",
       "  {'is_past': True,\n",
       "   'person': {'first_name': 'Rick',\n",
       "    'last_name': 'Campfield',\n",
       "    'permalink': 'rick-campfield'},\n",
       "   'title': 'General Manager'},\n",
       "  {'is_past': True,\n",
       "   'person': {'first_name': 'Woody',\n",
       "    'last_name': 'Sessoms',\n",
       "    'permalink': 'woody-sessoms'},\n",
       "   'title': 'Sales Management Positions'},\n",
       "  {'is_past': True,\n",
       "   'person': {'first_name': 'Rebecca',\n",
       "    'last_name': 'lin',\n",
       "    'permalink': 'rebecca-lin'},\n",
       "   'title': 'SALES SUPPORT'},\n",
       "  {'is_past': True,\n",
       "   'person': {'first_name': 'Simon',\n",
       "    'last_name': 'Lonsdale',\n",
       "    'permalink': 'simon-lonsdale'},\n",
       "   'title': 'Software Engineer'},\n",
       "  {'is_past': True,\n",
       "   'person': {'first_name': 'Mark',\n",
       "    'last_name': 'Straton',\n",
       "    'permalink': 'mark-straton'},\n",
       "   'title': 'senior leadership positions'},\n",
       "  {'is_past': True,\n",
       "   'person': {'first_name': 'Dan',\n",
       "    'last_name': 'Zebrowski',\n",
       "    'permalink': 'dan-zebrowski'},\n",
       "   'title': 'Accounting Manager / Internal Audit / Profit Center Reporting Supervisor / Staff Positions'},\n",
       "  {'is_past': True,\n",
       "   'person': {'first_name': 'Juergen',\n",
       "    'last_name': 'Schoepf',\n",
       "    'permalink': 'juergen-schoepf'},\n",
       "   'title': 'Deputy Director'},\n",
       "  {'is_past': True,\n",
       "   'person': {'first_name': 'Atreedev',\n",
       "    'last_name': 'Banerjee',\n",
       "    'permalink': 'atreedev-banerjee'},\n",
       "   'title': 'System Architect'},\n",
       "  {'is_past': True,\n",
       "   'person': {'first_name': 'Douglas',\n",
       "    'last_name': 'Correa',\n",
       "    'permalink': 'douglas-correa-2'},\n",
       "   'title': 'Telecommunication Technician'},\n",
       "  {'is_past': True,\n",
       "   'person': {'first_name': 'Kathrin',\n",
       "    'last_name': 'Buvac',\n",
       "    'permalink': 'kathrin-buvac'},\n",
       "   'title': 'Corporate Auditor, Region Controller'},\n",
       "  {'is_past': True,\n",
       "   'person': {'first_name': 'Luc',\n",
       "    'last_name': 'Darmon',\n",
       "    'permalink': 'luc-darmon'},\n",
       "   'title': 'Department Manager IC Development'},\n",
       "  {'is_past': True,\n",
       "   'person': {'first_name': 'Dan',\n",
       "    'last_name': 'Mondor',\n",
       "    'permalink': 'dan-mondor'},\n",
       "   'title': 'Director of Strategic Planning'},\n",
       "  {'is_past': True,\n",
       "   'person': {'first_name': 'Jay',\n",
       "    'last_name': 'B. Simha',\n",
       "    'permalink': 'jay-b-simha'},\n",
       "   'title': 'Medical Data Analysis'},\n",
       "  {'is_past': True,\n",
       "   'person': {'first_name': 'Maurice',\n",
       "    'last_name': 'Van Riek',\n",
       "    'permalink': 'maurice-van-riek'},\n",
       "   'title': 'R&D / Product Management'},\n",
       "  {'is_past': True,\n",
       "   'person': {'first_name': 'Mark',\n",
       "    'last_name': 'Snycerski',\n",
       "    'permalink': 'mark-snycerski'},\n",
       "   'title': 'Distributed Systems and Call Processing Applications'},\n",
       "  {'is_past': True,\n",
       "   'person': {'first_name': 'Adnan',\n",
       "    'last_name': 'Hamid',\n",
       "    'permalink': 'adnan-hamid'},\n",
       "   'title': 'Subject Matter Expert'},\n",
       "  {'is_past': True,\n",
       "   'person': {'first_name': 'Mark',\n",
       "    'last_name': 'Baehr',\n",
       "    'permalink': 'mark-baehr'},\n",
       "   'title': 'Account Management and Executive Positions'},\n",
       "  {'is_past': True,\n",
       "   'person': {'first_name': 'Jim',\n",
       "    'last_name': 'Talbot',\n",
       "    'permalink': 'jim-talbot'},\n",
       "   'title': 'Senior Quality & Regulatory Positions (Diagnostic Ultrasound)'},\n",
       "  {'is_past': True,\n",
       "   'person': {'first_name': 'Giuseppe',\n",
       "    'last_name': 'Donagemma',\n",
       "    'permalink': 'giuseppe-donagemma'},\n",
       "   'title': 'Telecommunications Projects - Greece'},\n",
       "  {'is_past': True,\n",
       "   'person': {'first_name': 'Armin',\n",
       "    'last_name': 'Anders',\n",
       "    'permalink': 'armin-anders'},\n",
       "   'title': 'Project Manager for Siemens Corporate Technology'},\n",
       "  {'is_past': True,\n",
       "   'person': {'first_name': 'Armin',\n",
       "    'last_name': 'Anders',\n",
       "    'permalink': 'armin-anders'},\n",
       "   'title': 'Siemens Technology Accelerator GmbH as a Venture Manager'},\n",
       "  {'is_past': True,\n",
       "   'person': {'first_name': 'Markus',\n",
       "    'last_name': 'Sickmoeller',\n",
       "    'permalink': 'markus-sickmoeller'},\n",
       "   'title': ''},\n",
       "  {'is_past': True,\n",
       "   'person': {'first_name': 'Philip',\n",
       "    'last_name': 'Korf',\n",
       "    'permalink': 'philip-korf'},\n",
       "   'title': 'Various Positions'},\n",
       "  {'is_past': True,\n",
       "   'person': {'first_name': 'Leo',\n",
       "    'last_name': 'Grady',\n",
       "    'permalink': 'leo-grady'},\n",
       "   'title': 'Corporate Research Division'},\n",
       "  {'is_past': True,\n",
       "   'person': {'first_name': 'Jeremy',\n",
       "    'last_name': 'Edinger',\n",
       "    'permalink': 'jeremy-edinger'},\n",
       "   'title': 'Managed Manufacturing and Procurement'},\n",
       "  {'is_past': True,\n",
       "   'person': {'first_name': 'Pedro',\n",
       "    'last_name': 'Colaco',\n",
       "    'permalink': 'pedro-colao'},\n",
       "   'title': 'Senior Roles in Product Management and Product Development'},\n",
       "  {'is_past': True,\n",
       "   'person': {'first_name': 'Chris',\n",
       "    'last_name': 'Hammelef',\n",
       "    'permalink': 'chris-hammelef'},\n",
       "   'title': 'Various Positions'}],\n",
       " 'screenshots': [{'attribution': None,\n",
       "   'available_sizes': [[[150, 92],\n",
       "     'assets/images/resized/0036/7684/367684v1-max-150x150.png'],\n",
       "    [[250, 154], 'assets/images/resized/0036/7684/367684v1-max-250x250.png'],\n",
       "    [[450, 277],\n",
       "     'assets/images/resized/0036/7684/367684v1-max-450x450.png']]}],\n",
       " 'tag_list': 'automation, building-technologies, drive-technology, energy',\n",
       " 'total_money_raised': '$8.9M',\n",
       " 'twitter_username': 'Siemens',\n",
       " 'updated_at': 'Thu Nov 28 20:32:55 UTC 2013',\n",
       " 'video_embeds': [{'description': '<p>More Than Just A Business </p>',\n",
       "   'embed_code': '<iframe width=\"420\" height=\"315\" src=\"//www.youtube.com/embed/FAFFfiUZQ0Y\" frameborder=\"0\" allowfullscreen></iframe>'},\n",
       "  {'description': '<p>A World With Seven Billion People </p>',\n",
       "   'embed_code': \"<iframe width='420' height='349' src='https://www.youtube.com/embed/z1KsRovMTvg' frameborder='0' allowfullscreen></iframe>\"},\n",
       "  {'description': '<p>The Next Big Step</p>',\n",
       "   'embed_code': \"<iframe width='420' height='349' src='https://www.youtube.com/embed/sfQZWinj1Sc' frameborder='0' allowfullscreen></iframe>\"},\n",
       "  {'description': '<p>Somewhere In America</p>',\n",
       "   'embed_code': \"<iframe width='420' height='349' src='https://www.youtube.com/embed/y49KJKXI5Mg' frameborder='0' allowfullscreen></iframe>\"}]}"
      ]
     },
     "execution_count": 33,
     "metadata": {},
     "output_type": "execute_result"
    }
   ],
   "source": [
    "query2 = {\"number_of_employees\":{\"$gt\":5000}}\n",
    "\n",
    "list(db[\"companies\"].find(query2).sort(\"number_of_employees\", -1).limit(20))[0]\n",
    "\n",
    "# No entiendo por qué los datos que me aparecen no están estructurados igual que en compass, por lo que \n",
    "# saco solo dos campos."
   ]
  },
  {
   "cell_type": "markdown",
   "metadata": {},
   "source": [
    "### 3. All the companies founded between 2000 and 2005, both years included. Retrieve only the `name` and `founded_year` fields."
   ]
  },
  {
   "cell_type": "code",
   "execution_count": 34,
   "metadata": {},
   "outputs": [
    {
     "name": "stdout",
     "output_type": "stream",
     "text": [
      "3734\n"
     ]
    },
    {
     "data": {
      "text/plain": [
       "[{'founded_year': 2005, 'name': 'Wetpaint'},\n",
       " {'founded_year': 2005, 'name': 'Omnidrive'},\n",
       " {'founded_year': 2005, 'name': 'Zoho'}]"
      ]
     },
     "execution_count": 34,
     "metadata": {},
     "output_type": "execute_result"
    }
   ],
   "source": [
    "query3 = {\"$and\":[{\"founded_year\":{\"$gte\":2000}},{\"founded_year\":{\"$lte\":2005}}]}\n",
    "\n",
    "print(len(list(db[\"companies\"].find((query3),{\"name\":1,\"founded_year\":1,\"_id\":0}))))\n",
    "list(db[\"companies\"].find((query3),{\"name\":1,\"founded_year\":1,\"_id\":0}))[:3]"
   ]
  },
  {
   "cell_type": "markdown",
   "metadata": {},
   "source": [
    "### 4. All the companies that had a Valuation Amount of more than 100.000.000 and have been founded before 2010. Retrieve only the `name` and `ipo` fields."
   ]
  },
  {
   "cell_type": "code",
   "execution_count": 35,
   "metadata": {},
   "outputs": [
    {
     "name": "stdout",
     "output_type": "stream",
     "text": [
      "42\n"
     ]
    },
    {
     "data": {
      "text/plain": [
       "[{'ipo': {'pub_day': 7,\n",
       "   'pub_month': 11,\n",
       "   'pub_year': 2013,\n",
       "   'stock_symbol': 'NYSE:TWTR',\n",
       "   'valuation_amount': 18100000000,\n",
       "   'valuation_currency_code': 'USD'},\n",
       "  'name': 'Twitter'},\n",
       " {'ipo': {'pub_day': 18,\n",
       "   'pub_month': 5,\n",
       "   'pub_year': 2012,\n",
       "   'stock_symbol': 'NASDAQ:FB',\n",
       "   'valuation_amount': 104000000000,\n",
       "   'valuation_currency_code': 'USD'},\n",
       "  'name': 'Facebook'}]"
      ]
     },
     "execution_count": 35,
     "metadata": {},
     "output_type": "execute_result"
    }
   ],
   "source": [
    "query4 = {\"$and\":[{\"ipo.valuation_amount\":{\"$gt\":100000000}},{\"founded_year\":{\"$lt\":2010}}]}\n",
    "\n",
    "print(len(list(db[\"companies\"].find((query4),{\"name\":1,\"ipo\":1,\"_id\":0}))))\n",
    "list(db[\"companies\"].find((query4),{\"name\":1,\"ipo\":1,\"_id\":0}))[:2]"
   ]
  },
  {
   "cell_type": "markdown",
   "metadata": {},
   "source": [
    "### 5. All the companies that have less than 1000 employees and have been founded before 2005. Order them by the number of employees and limit the search to 10 companies."
   ]
  },
  {
   "cell_type": "code",
   "execution_count": 36,
   "metadata": {},
   "outputs": [
    {
     "data": {
      "text/plain": [
       "[{'founded_year': 2000, 'number_of_employees': 974},\n",
       " {'founded_year': 1997, 'number_of_employees': 948},\n",
       " {'founded_year': 1997, 'number_of_employees': 931},\n",
       " {'founded_year': 1983, 'number_of_employees': 903},\n",
       " {'founded_year': 1991, 'number_of_employees': 900},\n",
       " {'founded_year': 1999, 'number_of_employees': 900},\n",
       " {'founded_year': 1999, 'number_of_employees': 881},\n",
       " {'founded_year': 2004, 'number_of_employees': 800},\n",
       " {'founded_year': 2000, 'number_of_employees': 800},\n",
       " {'founded_year': 2003, 'number_of_employees': 800}]"
      ]
     },
     "execution_count": 36,
     "metadata": {},
     "output_type": "execute_result"
    }
   ],
   "source": [
    "query5 = {\"$and\":[{\"number_of_employees\":{\"$lt\":1000}},{\"founded_year\":{\"$lt\":2005}}]}\n",
    "\n",
    "list(db[\"companies\"].find((query5),{\"founded_year\":1,\"number_of_employees\":1,\"_id\":0}).sort(\"number_of_employees\", -1).limit(10))"
   ]
  },
  {
   "cell_type": "markdown",
   "metadata": {},
   "source": [
    "### 6. All the companies that don't include the `partners` field."
   ]
  },
  {
   "cell_type": "code",
   "execution_count": 45,
   "metadata": {},
   "outputs": [
    {
     "data": {
      "text/plain": [
       "0"
      ]
     },
     "execution_count": 45,
     "metadata": {},
     "output_type": "execute_result"
    }
   ],
   "source": [
    "query6 = {\"partners\":{\"$exists\": False}}\n",
    "\n",
    "len(list(db[\"companies\"].find(query6)))"
   ]
  },
  {
   "cell_type": "markdown",
   "metadata": {},
   "source": [
    "### 7. All the companies that have a null type of value on the `category_code` field."
   ]
  },
  {
   "cell_type": "code",
   "execution_count": 38,
   "metadata": {},
   "outputs": [
    {
     "name": "stdout",
     "output_type": "stream",
     "text": [
      "2751\n"
     ]
    },
    {
     "data": {
      "text/plain": [
       "[{'category_code': None, 'name': 'Collective'},\n",
       " {'category_code': None, 'name': 'Snimmer'},\n",
       " {'category_code': None, 'name': 'KoolIM'}]"
      ]
     },
     "execution_count": 38,
     "metadata": {},
     "output_type": "execute_result"
    }
   ],
   "source": [
    "query7 = {\"category_code\":{\"$type\":\"null\"}}\n",
    "\n",
    "print(len(list(db.companies.find((query7),{\"name\":1,\"category_code\":1,\"_id\":0}))))\n",
    "list(db.companies.find((query7),{\"name\":1,\"category_code\":1,\"_id\":0}))[:3]\n",
    "\n",
    "# En compass con {\"category_code\":\"null\"} es suficiente, con pymongo no funciona, hay que incluir el type."
   ]
  },
  {
   "cell_type": "markdown",
   "metadata": {},
   "source": [
    "### 8. All the companies that have at least 100 employees but less than 1000. Retrieve only the `name` and `number of employees` fields."
   ]
  },
  {
   "cell_type": "code",
   "execution_count": 39,
   "metadata": {},
   "outputs": [
    {
     "name": "stdout",
     "output_type": "stream",
     "text": [
      "917\n"
     ]
    },
    {
     "data": {
      "text/plain": [
       "[{'name': 'AdventNet', 'number_of_employees': 600},\n",
       " {'name': 'AddThis', 'number_of_employees': 120},\n",
       " {'name': 'OpenX', 'number_of_employees': 305}]"
      ]
     },
     "execution_count": 39,
     "metadata": {},
     "output_type": "execute_result"
    }
   ],
   "source": [
    "query8 = {\"$and\":[{\"number_of_employees\":{\"$gte\":100}},{\"number_of_employees\":{\"$lt\":1000}}]}\n",
    "\n",
    "print(len(list(db[\"companies\"].find((query8),{\"name\":1,\"number_of_employees\":1,\"_id\":0}))))\n",
    "list(db.companies.find((query8),{\"name\":1,\"number_of_employees\":1,\"_id\":0}))[:3]"
   ]
  },
  {
   "cell_type": "markdown",
   "metadata": {},
   "source": [
    "### 9. Order all the companies by their IPO price in a descending order."
   ]
  },
  {
   "cell_type": "code",
   "execution_count": 46,
   "metadata": {},
   "outputs": [
    {
     "name": "stdout",
     "output_type": "stream",
     "text": [
      "390\n"
     ]
    },
    {
     "data": {
      "text/plain": [
       "[{'ipo': {'valuation_amount': 108960000000}, 'name': 'GREE'},\n",
       " {'ipo': {'valuation_amount': 104000000000}, 'name': 'Facebook'},\n",
       " {'ipo': {'valuation_amount': 100000000000}, 'name': 'Amazon'}]"
      ]
     },
     "execution_count": 46,
     "metadata": {},
     "output_type": "execute_result"
    }
   ],
   "source": [
    "query9 = {\"ipo.valuation_amount\":{\"$exists\":\"true\"}}\n",
    "\n",
    "print(len(list(db[\"companies\"].find((query9),{\"name\":1,\"ipo.valuation_amount\":1,\"_id\":0}).sort(\"ipo.valuation_amount\", -1))))\n",
    "list(db.companies.find((query9),{\"name\":1,\"ipo.valuation_amount\":1,\"_id\":0}).sort(\"ipo.valuation_amount\", -1))[:3]"
   ]
  },
  {
   "cell_type": "markdown",
   "metadata": {},
   "source": [
    "### 10. Retrieve the 10 companies with more employees, order by the `number of employees`"
   ]
  },
  {
   "cell_type": "code",
   "execution_count": 47,
   "metadata": {},
   "outputs": [
    {
     "data": {
      "text/plain": [
       "[{'name': 'Siemens', 'number_of_employees': 405000},\n",
       " {'name': 'IBM', 'number_of_employees': 388000},\n",
       " {'name': 'Toyota', 'number_of_employees': 320000}]"
      ]
     },
     "execution_count": 47,
     "metadata": {},
     "output_type": "execute_result"
    }
   ],
   "source": [
    "query10 = {\"number_of_employees\":{\"$exists\":\"true\"}}\n",
    "\n",
    "list(db.companies.find((query10),{\"name\":1,\"number_of_employees\":1,\"_id\":0}).sort(\"number_of_employees\", -1).limit(10))[:3]\n",
    "\n",
    "# Mismo caso que el ejercicio 2"
   ]
  },
  {
   "cell_type": "markdown",
   "metadata": {},
   "source": [
    "### 11. All the companies founded on the second semester of the year. Limit your search to 1000 companies."
   ]
  },
  {
   "cell_type": "code",
   "execution_count": 48,
   "metadata": {},
   "outputs": [
    {
     "data": {
      "text/plain": [
       "[{'founded_month': 10, 'name': 'Wetpaint'},\n",
       " {'founded_month': 11, 'name': 'Omnidrive'},\n",
       " {'founded_month': 9, 'name': 'Zoho'}]"
      ]
     },
     "execution_count": 48,
     "metadata": {},
     "output_type": "execute_result"
    }
   ],
   "source": [
    "query11 = {\"founded_month\":{\"$gt\":6}}\n",
    "\n",
    "list(db.companies.find((query11),{\"name\":1,\"founded_month\":1,\"_id\":0}).limit(1000))[:3]"
   ]
  },
  {
   "cell_type": "markdown",
   "metadata": {},
   "source": [
    "### 12. All the companies founded before 2000 that have an acquisition amount of more than 10.000.00"
   ]
  },
  {
   "cell_type": "code",
   "execution_count": 49,
   "metadata": {},
   "outputs": [
    {
     "name": "stdout",
     "output_type": "stream",
     "text": [
      "205\n"
     ]
    },
    {
     "data": {
      "text/plain": [
       "[{'acquisition': {'price_amount': 625000000}, 'founded_year': 1999},\n",
       " {'acquisition': {'price_amount': 180000000}, 'founded_year': 1999},\n",
       " {'acquisition': {'price_amount': 25000000}, 'founded_year': 1999}]"
      ]
     },
     "execution_count": 49,
     "metadata": {},
     "output_type": "execute_result"
    }
   ],
   "source": [
    "query12 = {\"$and\":[{\"founded_year\":{\"$lt\":2000}},{\"acquisition.price_amount\":{\"$gt\":10000000}}]}\n",
    "\n",
    "print(len(list(db[\"companies\"].find((query12),{\"founded_year\":1,\"acquisition.price_amount\":1,\"_id\":0}))))\n",
    "list(db.companies.find((query12),{\"founded_year\":1,\"acquisition.price_amount\":1,\"_id\":0}))[:3]"
   ]
  },
  {
   "cell_type": "markdown",
   "metadata": {},
   "source": [
    "### 13. All the companies that have been acquired after 2010, order by the acquisition amount, and retrieve only their `name` and `acquisition` field."
   ]
  },
  {
   "cell_type": "code",
   "execution_count": 50,
   "metadata": {},
   "outputs": [
    {
     "name": "stdout",
     "output_type": "stream",
     "text": [
      "736\n"
     ]
    },
    {
     "data": {
      "text/plain": [
       "[{'acquisition': {'acquired_day': 20,\n",
       "   'acquired_month': 3,\n",
       "   'acquired_year': 2011,\n",
       "   'acquiring_company': {'name': 'AT&T', 'permalink': 'at-t'},\n",
       "   'price_amount': 39000000000,\n",
       "   'price_currency_code': 'USD',\n",
       "   'source_description': 'In The Race For More Spectrum, AT&T Is Acquiring T-Mobile For $39 Billion',\n",
       "   'source_url': 'http://techcrunch.com/2011/03/20/in-the-race-for-more-spectrum-att-is-acquiring-t-mobile-for-39-billion/',\n",
       "   'term_code': None},\n",
       "  'name': 'T-Mobile'}]"
      ]
     },
     "execution_count": 50,
     "metadata": {},
     "output_type": "execute_result"
    }
   ],
   "source": [
    "query13 = {\"acquisition.acquired_year\":{\"$gt\":2010}}\n",
    "\n",
    "print(len(list(db[\"companies\"].find((query13),{\"name\":1,\"acquisition\":1,\"_id\":0}).sort(\"acquisition.price_amount\",-1))))\n",
    "list(db.companies.find((query13),{\"name\":1,\"acquisition\":1,\"_id\":0}).sort(\"acquisition.price_amount\",-1))[:1]"
   ]
  },
  {
   "cell_type": "markdown",
   "metadata": {},
   "source": [
    "### 14. Order the companies by their `founded year`, retrieving only their `name` and `founded year`."
   ]
  },
  {
   "cell_type": "code",
   "execution_count": 51,
   "metadata": {},
   "outputs": [
    {
     "data": {
      "text/plain": [
       "[{'founded_year': 2013, 'name': 'Fixya'},\n",
       " {'founded_year': 2013, 'name': 'Wamba'},\n",
       " {'founded_year': 2013, 'name': 'Advaliant'}]"
      ]
     },
     "execution_count": 51,
     "metadata": {},
     "output_type": "execute_result"
    }
   ],
   "source": [
    "query14 = {\"founded_year\":{\"$exists\":\"true\"}}\n",
    "\n",
    "list(db.companies.find((query14),{\"name\":1,\"founded_year\":1,\"_id\":0}).sort(\"founded_year\", -1).limit(1000))[:3]"
   ]
  },
  {
   "cell_type": "markdown",
   "metadata": {},
   "source": [
    "### 15. All the companies that have been founded on the first seven days of the month, including the seventh. Sort them by their `acquisition price` in a descending order. Limit the search to 10 documents."
   ]
  },
  {
   "cell_type": "code",
   "execution_count": 52,
   "metadata": {},
   "outputs": [
    {
     "data": {
      "text/plain": [
       "[{'acquisition': {'price_amount': 4200000000}, 'founded_day': 4},\n",
       " {'acquisition': {'price_amount': 1500000000}, 'founded_day': 1},\n",
       " {'acquisition': {'price_amount': 1200000000}, 'founded_day': 1},\n",
       " {'acquisition': {'price_amount': 1000000000}, 'founded_day': 1},\n",
       " {'acquisition': {'price_amount': 625000000}, 'founded_day': 2},\n",
       " {'acquisition': {'price_amount': 500000000}, 'founded_day': 1},\n",
       " {'acquisition': {'price_amount': 410000000}, 'founded_day': 6},\n",
       " {'acquisition': {'price_amount': 345000000}, 'founded_day': 1},\n",
       " {'acquisition': {'price_amount': 321000000}, 'founded_day': 1},\n",
       " {'acquisition': {'price_amount': 300000000}, 'founded_day': 1}]"
      ]
     },
     "execution_count": 52,
     "metadata": {},
     "output_type": "execute_result"
    }
   ],
   "source": [
    "query15 = {\"founded_day\":{\"$lte\":7}}\n",
    "\n",
    "list(db.companies.find((query15),{\"founded_day\":1,\"acquisition.price_amount\":1,\"_id\":0}).sort(\"acquisition.price_amount\", -1).limit(10))"
   ]
  },
  {
   "cell_type": "markdown",
   "metadata": {},
   "source": [
    "### 16. All the companies on the 'web' `category` that have more than 4000 employees. Sort them by the amount of employees in ascending order."
   ]
  },
  {
   "cell_type": "code",
   "execution_count": 53,
   "metadata": {},
   "outputs": [
    {
     "name": "stdout",
     "output_type": "stream",
     "text": [
      "9\n"
     ]
    },
    {
     "data": {
      "text/plain": [
       "[{'category_code': 'web', 'number_of_employees': 4400},\n",
       " {'category_code': 'web', 'number_of_employees': 8000},\n",
       " {'category_code': 'web', 'number_of_employees': 8657}]"
      ]
     },
     "execution_count": 53,
     "metadata": {},
     "output_type": "execute_result"
    }
   ],
   "source": [
    "query16 = {\"$and\":[{\"category_code\":\"web\"},{\"number_of_employees\":{\"$gt\":4000}}]}\n",
    "\n",
    "print(len(list(db[\"companies\"].find((query16),{\"category_code\":1,\"number_of_employees\":1,\"_id\":0}).sort(\"number_of_employees\", 1))))\n",
    "list(db.companies.find((query16),{\"category_code\":1,\"number_of_employees\":1,\"_id\":0}).sort(\"number_of_employees\", 1))[:3]"
   ]
  },
  {
   "cell_type": "markdown",
   "metadata": {},
   "source": [
    "### 17. All the companies whose acquisition amount is more than 10.000.000, and currency is 'EUR'."
   ]
  },
  {
   "cell_type": "code",
   "execution_count": 54,
   "metadata": {},
   "outputs": [
    {
     "data": {
      "text/plain": [
       "[{'acquisition': {'price_amount': 31500000, 'price_currency_code': 'EUR'}},\n",
       " {'acquisition': {'price_amount': 140000000, 'price_currency_code': 'EUR'}},\n",
       " {'acquisition': {'price_amount': 40000000, 'price_currency_code': 'EUR'}},\n",
       " {'acquisition': {'price_amount': 70000000, 'price_currency_code': 'EUR'}},\n",
       " {'acquisition': {'price_amount': 24000000, 'price_currency_code': 'EUR'}},\n",
       " {'acquisition': {'price_amount': 70000000, 'price_currency_code': 'EUR'}},\n",
       " {'acquisition': {'price_amount': 43400000, 'price_currency_code': 'EUR'}}]"
      ]
     },
     "execution_count": 54,
     "metadata": {},
     "output_type": "execute_result"
    }
   ],
   "source": [
    "query17 = {\"$and\":[{\"acquisition.price_amount\":{\"$gt\":10000000},\"acquisition.price_currency_code\":\"EUR\"}]}\n",
    "\n",
    "list(db.companies.find((query17),{\"acquisition.price_amount\":1,\"acquisition.price_currency_code\":1,\"_id\":0}))"
   ]
  },
  {
   "cell_type": "markdown",
   "metadata": {},
   "source": [
    "### 18. All the companies that have been acquired on the first trimester of the year. Limit the search to 10 companies, and retrieve only their `name` and `acquisition` fields."
   ]
  },
  {
   "cell_type": "code",
   "execution_count": 55,
   "metadata": {},
   "outputs": [
    {
     "data": {
      "text/plain": [
       "[{'acquisition': {'acquired_day': 31,\n",
       "   'acquired_month': 1,\n",
       "   'acquired_year': 2011,\n",
       "   'acquiring_company': {'name': 'KIT digital', 'permalink': 'kit-digital'},\n",
       "   'price_amount': None,\n",
       "   'price_currency_code': 'USD',\n",
       "   'source_description': 'KIT digital Acquires KickApps, Kewego AND Kyte For $77.2 Million',\n",
       "   'source_url': 'http://techcrunch.com/2011/01/31/exclusive-kit-digital-acquires-kickapps-kewego-and-kyte-for-77-2-million/',\n",
       "   'term_code': None},\n",
       "  'name': 'Kyte'},\n",
       " {'acquisition': {'acquired_day': None,\n",
       "   'acquired_month': 2,\n",
       "   'acquired_year': 2007,\n",
       "   'acquiring_company': {'name': 'Nielsen', 'permalink': 'nielsen'},\n",
       "   'price_amount': 327000000,\n",
       "   'price_currency_code': 'USD',\n",
       "   'source_description': 'Nielsen buys rest of NetRatings',\n",
       "   'source_url': 'http://login.vnuemedia.com/hr/login/login_subscribe.jsp?id=0oqDem1gYIfIclz9i2%2Ffqj5NxCp2AC5DPbVnyT2da8GyV2mXjasabE128n69OrmcAh52%2FGE3pSG%2F%0AEKRYD9vh9EhrJrxukmUzh532fSMTZXL42gwPB80UWVtF1NwJ5UZSM%2BCkLU1mpYBoHFgiH%2Fi0f6Ax%0A9yMIVxt47t%2BHamhEQ0nkOEK24L',\n",
       "   'term_code': 'cash'},\n",
       "  'name': 'NetRatings'}]"
      ]
     },
     "execution_count": 55,
     "metadata": {},
     "output_type": "execute_result"
    }
   ],
   "source": [
    "query18 = {\"acquisition.acquired_month\":{\"$lt\":4}}\n",
    "\n",
    "list(db.companies.find((query18),{\"name\":1,\"acquisition\":1,\"_id\":0}).limit(10))[:2]"
   ]
  },
  {
   "cell_type": "markdown",
   "metadata": {},
   "source": [
    "# Bonus\n",
    "### 19. All the companies that have been founded between 2000 and 2010, but have not been acquired before 2011."
   ]
  },
  {
   "cell_type": "code",
   "execution_count": 56,
   "metadata": {},
   "outputs": [
    {
     "name": "stdout",
     "output_type": "stream",
     "text": [
      "342\n"
     ]
    },
    {
     "data": {
      "text/plain": [
       "[{'acquisition': {'acquired_year': 2013}, 'founded_year': 2005},\n",
       " {'acquisition': {'acquired_year': 2012}, 'founded_year': 2004},\n",
       " {'acquisition': {'acquired_year': 2012}, 'founded_year': 2006}]"
      ]
     },
     "execution_count": 56,
     "metadata": {},
     "output_type": "execute_result"
    }
   ],
   "source": [
    "queryP = {\"$and\":[{\"founded_year\":{\"$gte\":2000},\"founded_year\":{\"$lte\":2010},\"acquisition.acquired_year\":{\"$gt\":2011}}]}\n",
    "\n",
    "print(len(list(db[\"companies\"].find((queryP),{\"founded_year\":1,\"acquisition.acquired_year\":1,\"_id\":0}))))\n",
    "list(db.companies.find((queryP),{\"founded_year\":1,\"acquisition.acquired_year\":1,\"_id\":0}))[:3]"
   ]
  },
  {
   "cell_type": "markdown",
   "metadata": {},
   "source": [
    "### 20. All the companies that have been 'deadpooled' after the third year."
   ]
  },
  {
   "cell_type": "code",
   "execution_count": 57,
   "metadata": {},
   "outputs": [
    {
     "ename": "OperationFailure",
     "evalue": "Unrecognized expression '$substract'",
     "output_type": "error",
     "traceback": [
      "\u001b[0;31m---------------------------------------------------------------------------\u001b[0m",
      "\u001b[0;31mOperationFailure\u001b[0m                          Traceback (most recent call last)",
      "\u001b[0;32m<ipython-input-57-d168a36f7472>\u001b[0m in \u001b[0;36m<module>\u001b[0;34m()\u001b[0m\n\u001b[0;32m----> 1\u001b[0;31m \u001b[0mdb\u001b[0m\u001b[0;34m.\u001b[0m\u001b[0mcompanies\u001b[0m\u001b[0;34m.\u001b[0m\u001b[0maggregate\u001b[0m\u001b[0;34m(\u001b[0m\u001b[0;34m[\u001b[0m\u001b[0;34m{\u001b[0m\u001b[0;34m\"$project\"\u001b[0m\u001b[0;34m:\u001b[0m\u001b[0;34m{\u001b[0m\u001b[0;34m\"name\"\u001b[0m\u001b[0;34m:\u001b[0m\u001b[0;36m1\u001b[0m\u001b[0;34m,\u001b[0m\u001b[0;34m\"diference\"\u001b[0m\u001b[0;34m:\u001b[0m\u001b[0;34m{\u001b[0m\u001b[0;34m\"$substract\"\u001b[0m\u001b[0;34m:\u001b[0m\u001b[0;34m[\u001b[0m\u001b[0;34m\"deadpooled_year\"\u001b[0m\u001b[0;34m,\u001b[0m\u001b[0;34m\"founded_year\"\u001b[0m\u001b[0;34m]\u001b[0m\u001b[0;34m}\u001b[0m\u001b[0;34m}\u001b[0m\u001b[0;34m}\u001b[0m\u001b[0;34m]\u001b[0m\u001b[0;34m)\u001b[0m\u001b[0;34m\u001b[0m\u001b[0;34m\u001b[0m\u001b[0m\n\u001b[0m",
      "\u001b[0;32m/usr/local/lib/python3.6/dist-packages/pymongo/collection.py\u001b[0m in \u001b[0;36maggregate\u001b[0;34m(self, pipeline, session, **kwargs)\u001b[0m\n\u001b[1;32m   2378\u001b[0m                                    \u001b[0msession\u001b[0m\u001b[0;34m=\u001b[0m\u001b[0ms\u001b[0m\u001b[0;34m,\u001b[0m\u001b[0;34m\u001b[0m\u001b[0;34m\u001b[0m\u001b[0m\n\u001b[1;32m   2379\u001b[0m                                    \u001b[0mexplicit_session\u001b[0m\u001b[0;34m=\u001b[0m\u001b[0msession\u001b[0m \u001b[0;32mis\u001b[0m \u001b[0;32mnot\u001b[0m \u001b[0;32mNone\u001b[0m\u001b[0;34m,\u001b[0m\u001b[0;34m\u001b[0m\u001b[0;34m\u001b[0m\u001b[0m\n\u001b[0;32m-> 2380\u001b[0;31m                                    **kwargs)\n\u001b[0m\u001b[1;32m   2381\u001b[0m \u001b[0;34m\u001b[0m\u001b[0m\n\u001b[1;32m   2382\u001b[0m     \u001b[0;32mdef\u001b[0m \u001b[0maggregate_raw_batches\u001b[0m\u001b[0;34m(\u001b[0m\u001b[0mself\u001b[0m\u001b[0;34m,\u001b[0m \u001b[0mpipeline\u001b[0m\u001b[0;34m,\u001b[0m \u001b[0;34m**\u001b[0m\u001b[0mkwargs\u001b[0m\u001b[0;34m)\u001b[0m\u001b[0;34m:\u001b[0m\u001b[0;34m\u001b[0m\u001b[0;34m\u001b[0m\u001b[0m\n",
      "\u001b[0;32m/usr/local/lib/python3.6/dist-packages/pymongo/collection.py\u001b[0m in \u001b[0;36m_aggregate\u001b[0;34m(self, aggregation_command, pipeline, cursor_class, session, explicit_session, **kwargs)\u001b[0m\n\u001b[1;32m   2297\u001b[0m         return self.__database.client._retryable_read(\n\u001b[1;32m   2298\u001b[0m             \u001b[0mcmd\u001b[0m\u001b[0;34m.\u001b[0m\u001b[0mget_cursor\u001b[0m\u001b[0;34m,\u001b[0m \u001b[0mcmd\u001b[0m\u001b[0;34m.\u001b[0m\u001b[0mget_read_preference\u001b[0m\u001b[0;34m(\u001b[0m\u001b[0msession\u001b[0m\u001b[0;34m)\u001b[0m\u001b[0;34m,\u001b[0m \u001b[0msession\u001b[0m\u001b[0;34m,\u001b[0m\u001b[0;34m\u001b[0m\u001b[0;34m\u001b[0m\u001b[0m\n\u001b[0;32m-> 2299\u001b[0;31m             retryable=not cmd._performs_write)\n\u001b[0m\u001b[1;32m   2300\u001b[0m \u001b[0;34m\u001b[0m\u001b[0m\n\u001b[1;32m   2301\u001b[0m     \u001b[0;32mdef\u001b[0m \u001b[0maggregate\u001b[0m\u001b[0;34m(\u001b[0m\u001b[0mself\u001b[0m\u001b[0;34m,\u001b[0m \u001b[0mpipeline\u001b[0m\u001b[0;34m,\u001b[0m \u001b[0msession\u001b[0m\u001b[0;34m=\u001b[0m\u001b[0;32mNone\u001b[0m\u001b[0;34m,\u001b[0m \u001b[0;34m**\u001b[0m\u001b[0mkwargs\u001b[0m\u001b[0;34m)\u001b[0m\u001b[0;34m:\u001b[0m\u001b[0;34m\u001b[0m\u001b[0;34m\u001b[0m\u001b[0m\n",
      "\u001b[0;32m/usr/local/lib/python3.6/dist-packages/pymongo/mongo_client.py\u001b[0m in \u001b[0;36m_retryable_read\u001b[0;34m(self, func, read_pref, session, address, retryable, exhaust)\u001b[0m\n\u001b[1;32m   1462\u001b[0m                         \u001b[0;31m# not support retryable reads, raise the last error.\u001b[0m\u001b[0;34m\u001b[0m\u001b[0;34m\u001b[0m\u001b[0;34m\u001b[0m\u001b[0m\n\u001b[1;32m   1463\u001b[0m                         \u001b[0;32mraise\u001b[0m \u001b[0mlast_error\u001b[0m\u001b[0;34m\u001b[0m\u001b[0;34m\u001b[0m\u001b[0m\n\u001b[0;32m-> 1464\u001b[0;31m                     \u001b[0;32mreturn\u001b[0m \u001b[0mfunc\u001b[0m\u001b[0;34m(\u001b[0m\u001b[0msession\u001b[0m\u001b[0;34m,\u001b[0m \u001b[0mserver\u001b[0m\u001b[0;34m,\u001b[0m \u001b[0msock_info\u001b[0m\u001b[0;34m,\u001b[0m \u001b[0mslave_ok\u001b[0m\u001b[0;34m)\u001b[0m\u001b[0;34m\u001b[0m\u001b[0;34m\u001b[0m\u001b[0m\n\u001b[0m\u001b[1;32m   1465\u001b[0m             \u001b[0;32mexcept\u001b[0m \u001b[0mServerSelectionTimeoutError\u001b[0m\u001b[0;34m:\u001b[0m\u001b[0;34m\u001b[0m\u001b[0;34m\u001b[0m\u001b[0m\n\u001b[1;32m   1466\u001b[0m                 \u001b[0;32mif\u001b[0m \u001b[0mretrying\u001b[0m\u001b[0;34m:\u001b[0m\u001b[0;34m\u001b[0m\u001b[0;34m\u001b[0m\u001b[0m\n",
      "\u001b[0;32m/usr/local/lib/python3.6/dist-packages/pymongo/aggregation.py\u001b[0m in \u001b[0;36mget_cursor\u001b[0;34m(self, session, server, sock_info, slave_ok)\u001b[0m\n\u001b[1;32m    146\u001b[0m             \u001b[0msession\u001b[0m\u001b[0;34m=\u001b[0m\u001b[0msession\u001b[0m\u001b[0;34m,\u001b[0m\u001b[0;34m\u001b[0m\u001b[0;34m\u001b[0m\u001b[0m\n\u001b[1;32m    147\u001b[0m             \u001b[0mclient\u001b[0m\u001b[0;34m=\u001b[0m\u001b[0mself\u001b[0m\u001b[0;34m.\u001b[0m\u001b[0m_database\u001b[0m\u001b[0;34m.\u001b[0m\u001b[0mclient\u001b[0m\u001b[0;34m,\u001b[0m\u001b[0;34m\u001b[0m\u001b[0;34m\u001b[0m\u001b[0m\n\u001b[0;32m--> 148\u001b[0;31m             user_fields=self._user_fields)\n\u001b[0m\u001b[1;32m    149\u001b[0m \u001b[0;34m\u001b[0m\u001b[0m\n\u001b[1;32m    150\u001b[0m         \u001b[0mself\u001b[0m\u001b[0;34m.\u001b[0m\u001b[0m_process_result\u001b[0m\u001b[0;34m(\u001b[0m\u001b[0mresult\u001b[0m\u001b[0;34m,\u001b[0m \u001b[0msession\u001b[0m\u001b[0;34m,\u001b[0m \u001b[0mserver\u001b[0m\u001b[0;34m,\u001b[0m \u001b[0msock_info\u001b[0m\u001b[0;34m,\u001b[0m \u001b[0mslave_ok\u001b[0m\u001b[0;34m)\u001b[0m\u001b[0;34m\u001b[0m\u001b[0;34m\u001b[0m\u001b[0m\n",
      "\u001b[0;32m/usr/local/lib/python3.6/dist-packages/pymongo/pool.py\u001b[0m in \u001b[0;36mcommand\u001b[0;34m(self, dbname, spec, slave_ok, read_preference, codec_options, check, allowable_errors, check_keys, read_concern, write_concern, parse_write_concern_error, collation, session, client, retryable_write, publish_events, user_fields)\u001b[0m\n\u001b[1;32m    611\u001b[0m                            \u001b[0muse_op_msg\u001b[0m\u001b[0;34m=\u001b[0m\u001b[0mself\u001b[0m\u001b[0;34m.\u001b[0m\u001b[0mop_msg_enabled\u001b[0m\u001b[0;34m,\u001b[0m\u001b[0;34m\u001b[0m\u001b[0;34m\u001b[0m\u001b[0m\n\u001b[1;32m    612\u001b[0m                            \u001b[0munacknowledged\u001b[0m\u001b[0;34m=\u001b[0m\u001b[0munacknowledged\u001b[0m\u001b[0;34m,\u001b[0m\u001b[0;34m\u001b[0m\u001b[0;34m\u001b[0m\u001b[0m\n\u001b[0;32m--> 613\u001b[0;31m                            user_fields=user_fields)\n\u001b[0m\u001b[1;32m    614\u001b[0m         \u001b[0;32mexcept\u001b[0m \u001b[0mOperationFailure\u001b[0m\u001b[0;34m:\u001b[0m\u001b[0;34m\u001b[0m\u001b[0;34m\u001b[0m\u001b[0m\n\u001b[1;32m    615\u001b[0m             \u001b[0;32mraise\u001b[0m\u001b[0;34m\u001b[0m\u001b[0;34m\u001b[0m\u001b[0m\n",
      "\u001b[0;32m/usr/local/lib/python3.6/dist-packages/pymongo/network.py\u001b[0m in \u001b[0;36mcommand\u001b[0;34m(sock, dbname, spec, slave_ok, is_mongos, read_preference, codec_options, session, client, check, allowable_errors, address, check_keys, listeners, max_bson_size, read_concern, parse_write_concern_error, collation, compression_ctx, use_op_msg, unacknowledged, user_fields)\u001b[0m\n\u001b[1;32m    165\u001b[0m                 helpers._check_command_response(\n\u001b[1;32m    166\u001b[0m                     \u001b[0mresponse_doc\u001b[0m\u001b[0;34m,\u001b[0m \u001b[0;32mNone\u001b[0m\u001b[0;34m,\u001b[0m \u001b[0mallowable_errors\u001b[0m\u001b[0;34m,\u001b[0m\u001b[0;34m\u001b[0m\u001b[0;34m\u001b[0m\u001b[0m\n\u001b[0;32m--> 167\u001b[0;31m                     parse_write_concern_error=parse_write_concern_error)\n\u001b[0m\u001b[1;32m    168\u001b[0m     \u001b[0;32mexcept\u001b[0m \u001b[0mException\u001b[0m \u001b[0;32mas\u001b[0m \u001b[0mexc\u001b[0m\u001b[0;34m:\u001b[0m\u001b[0;34m\u001b[0m\u001b[0;34m\u001b[0m\u001b[0m\n\u001b[1;32m    169\u001b[0m         \u001b[0;32mif\u001b[0m \u001b[0mpublish\u001b[0m\u001b[0;34m:\u001b[0m\u001b[0;34m\u001b[0m\u001b[0;34m\u001b[0m\u001b[0m\n",
      "\u001b[0;32m/usr/local/lib/python3.6/dist-packages/pymongo/helpers.py\u001b[0m in \u001b[0;36m_check_command_response\u001b[0;34m(response, msg, allowable_errors, parse_write_concern_error)\u001b[0m\n\u001b[1;32m    157\u001b[0m \u001b[0;34m\u001b[0m\u001b[0m\n\u001b[1;32m    158\u001b[0m             \u001b[0mmsg\u001b[0m \u001b[0;34m=\u001b[0m \u001b[0mmsg\u001b[0m \u001b[0;32mor\u001b[0m \u001b[0;34m\"%s\"\u001b[0m\u001b[0;34m\u001b[0m\u001b[0;34m\u001b[0m\u001b[0m\n\u001b[0;32m--> 159\u001b[0;31m             \u001b[0;32mraise\u001b[0m \u001b[0mOperationFailure\u001b[0m\u001b[0;34m(\u001b[0m\u001b[0mmsg\u001b[0m \u001b[0;34m%\u001b[0m \u001b[0merrmsg\u001b[0m\u001b[0;34m,\u001b[0m \u001b[0mcode\u001b[0m\u001b[0;34m,\u001b[0m \u001b[0mresponse\u001b[0m\u001b[0;34m)\u001b[0m\u001b[0;34m\u001b[0m\u001b[0;34m\u001b[0m\u001b[0m\n\u001b[0m\u001b[1;32m    160\u001b[0m \u001b[0;34m\u001b[0m\u001b[0m\n\u001b[1;32m    161\u001b[0m \u001b[0;34m\u001b[0m\u001b[0m\n",
      "\u001b[0;31mOperationFailure\u001b[0m: Unrecognized expression '$substract'"
     ]
    }
   ],
   "source": [
    "db.companies.aggregate([{\"$project\":{\"name\":1,\"diference\":{\"$substract\":[\"deadpooled_year\",\"founded_year\"]}}}])"
   ]
  },
  {
   "cell_type": "code",
   "execution_count": null,
   "metadata": {},
   "outputs": [],
   "source": []
  }
 ],
 "metadata": {
  "kernelspec": {
   "display_name": "Python 3",
   "language": "python",
   "name": "python3"
  },
  "language_info": {
   "codemirror_mode": {
    "name": "ipython",
    "version": 3
   },
   "file_extension": ".py",
   "mimetype": "text/x-python",
   "name": "python",
   "nbconvert_exporter": "python",
   "pygments_lexer": "ipython3",
   "version": "3.6.9"
  }
 },
 "nbformat": 4,
 "nbformat_minor": 2
}
