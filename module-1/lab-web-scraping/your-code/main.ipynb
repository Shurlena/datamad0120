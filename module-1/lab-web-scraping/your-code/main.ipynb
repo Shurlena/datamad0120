{
 "cells": [
  {
   "cell_type": "markdown",
   "metadata": {},
   "source": [
    "# Web Scraping Lab\n",
    "\n",
    "You will find in this notebook some scrapy exercises to practise your scraping skills.\n",
    "\n",
    "**Tips:**\n",
    "\n",
    "- Check the response status code for each request to ensure you have obtained the intended contennt.\n",
    "- Print the response text in each request to understand the kind of info you are getting and its format.\n",
    "- Check for patterns in the response text to extract the data/info requested in each question.\n",
    "- Visit each url and take a look at its source through Chrome DevTools. You'll need to identify the html tags, special class names etc. used for the html content you are expected to extract."
   ]
  },
  {
   "cell_type": "markdown",
   "metadata": {},
   "source": [
    "- [Requests library](http://docs.python-requests.org/en/master/#the-user-guide) documentation \n",
    "- [Beautiful Soup Doc](https://www.crummy.com/software/BeautifulSoup/bs4/doc/)\n",
    "- [Urllib](https://docs.python.org/3/library/urllib.html#module-urllib)\n",
    "- [re lib](https://docs.python.org/3/library/re.html)\n",
    "- [lxml lib](https://lxml.de/)\n",
    "- [Scrapy](https://scrapy.org/)\n",
    "- [List of HTTP status codes](https://en.wikipedia.org/wiki/List_of_HTTP_status_codes)\n",
    "- [HTML basics](http://www.simplehtmlguide.com/cheatsheet.php)\n",
    "- [CSS basics](https://www.cssbasics.com/#page_start)"
   ]
  },
  {
   "cell_type": "markdown",
   "metadata": {},
   "source": [
    "#### Below are the libraries and modules you may need. `requests`,  `BeautifulSoup` and `pandas` are imported for you. If you prefer to use additional libraries feel free to uncomment them."
   ]
  },
  {
   "cell_type": "code",
   "execution_count": 115,
   "metadata": {},
   "outputs": [],
   "source": [
    "import requests\n",
    "from bs4 import BeautifulSoup\n",
    "import pandas as pd\n",
    "# from pprint import pprint\n",
    "# from lxml import html\n",
    "# from lxml.html import fromstring\n",
    "# import urllib.request\n",
    "# from urllib.request import urlopen\n",
    "# import random\n",
    "# import re\n",
    "# import scrapy"
   ]
  },
  {
   "cell_type": "markdown",
   "metadata": {},
   "source": [
    "#### Download, parse (using BeautifulSoup), and print the content from the Trending Developers page from GitHub:"
   ]
  },
  {
   "cell_type": "code",
   "execution_count": 116,
   "metadata": {},
   "outputs": [],
   "source": [
    "url = 'https://github.com/trending/developers'\n",
    "\n",
    "data = requests.get(url).text\n",
    "\n",
    "soup = BeautifulSoup(data, 'html.parser')\n",
    "# Dejo sin printear el soup para que no os aparezca todo el tochaco."
   ]
  },
  {
   "cell_type": "markdown",
   "metadata": {},
   "source": [
    "#### Display the names of the trending developers retrieved in the previous step.\n",
    "\n",
    "Your output should be a Python list of developer names. Each name should not contain any html tag.\n",
    "\n",
    "**Instructions:**\n",
    "\n",
    "1. Find out the html tag and class names used for the developer names. You can achieve this using Chrome DevTools.\n",
    "\n",
    "1. Use BeautifulSoup to extract all the html elements that contain the developer names.\n",
    "\n",
    "1. Use string manipulation techniques to replace whitespaces and linebreaks (i.e. `\\n`) in the *text* of each html element. Use a list to store the clean names.\n",
    "\n",
    "1. Print the list of names.\n",
    "\n",
    "Your output should look like below:\n",
    "\n",
    "```\n",
    "['trimstray (@trimstray)',\n",
    " 'joewalnes (JoeWalnes)',\n",
    " 'charlax (Charles-AxelDein)',\n",
    " 'ForrestKnight (ForrestKnight)',\n",
    " 'revery-ui (revery-ui)',\n",
    " 'alibaba (Alibaba)',\n",
    " 'Microsoft (Microsoft)',\n",
    " 'github (GitHub)',\n",
    " 'facebook (Facebook)',\n",
    " 'boazsegev (Bo)',\n",
    " 'google (Google)',\n",
    " 'cloudfetch',\n",
    " 'sindresorhus (SindreSorhus)',\n",
    " 'tensorflow',\n",
    " 'apache (TheApacheSoftwareFoundation)',\n",
    " 'DevonCrawford (DevonCrawford)',\n",
    " 'ARMmbed (ArmMbed)',\n",
    " 'vuejs (vuejs)',\n",
    " 'fastai (fast.ai)',\n",
    " 'QiShaoXuan (Qi)',\n",
    " 'joelparkerhenderson (JoelParkerHenderson)',\n",
    " 'torvalds (LinusTorvalds)',\n",
    " 'CyC2018',\n",
    " 'komeiji-satori (神楽坂覚々)',\n",
    " 'script-8']\n",
    " ```"
   ]
  },
  {
   "cell_type": "code",
   "execution_count": 117,
   "metadata": {},
   "outputs": [
    {
     "data": {
      "text/plain": [
       "['mattn (mattn)',\n",
       " 'Andreas Mueller (amueller)',\n",
       " 'Brian C (brianc)',\n",
       " 'Erik Schierboom (ErikSchierboom)',\n",
       " 'John Sundell (JohnSundell)',\n",
       " 'Siddharth Kshetrapal (siddharthkp)',\n",
       " 'Jason Williams (jasonwilliams)',\n",
       " 'Kyle Conroy (kyleconroy)',\n",
       " 'Anthony Sottile (asottile)',\n",
       " 'William Candillon (wcandillon)',\n",
       " 'Colin Rofls (cmyr)',\n",
       " 'Filip Skokan (panva)',\n",
       " 'Amila Welihinda (amilajack)',\n",
       " 'Kristoffer Carlsson (KristofferC)',\n",
       " 'Giulio Canti (gcanti)',\n",
       " 'greatghoul (greatghoul)',\n",
       " 'Miek Gieben (miekg)',\n",
       " 'Jesse Katsumata (Naturalclar)',\n",
       " 'Lucas Michot (lucasmichot)',\n",
       " 'Adam Geitgey (ageitgey)',\n",
       " 'Philipp Oppermann (phil-opp)',\n",
       " 'Tony Narlock (tony)',\n",
       " 'isaacs (isaacs)',\n",
       " 'Florian Rival (4ian)',\n",
       " 'Satyajit Sahoo (satya164)']"
      ]
     },
     "execution_count": 117,
     "metadata": {},
     "output_type": "execute_result"
    }
   ],
   "source": [
    "tag = soup.select('h1[class=\"h3 lh-condensed\"] a')\n",
    "\n",
    "def developers(tag):\n",
    "    return tag.attrs['href'],(tag.text)\n",
    "\n",
    "result = [developers(x) for x in tag]\n",
    "\n",
    "lista = []\n",
    "\n",
    "for x in result:\n",
    "    a = x[0].strip()\n",
    "    b = x[1].strip()\n",
    "    lista.append(b+' '+'('+a[1:]+')')\n",
    "    \n",
    "list(filter(lambda x: x,lista))"
   ]
  },
  {
   "cell_type": "markdown",
   "metadata": {},
   "source": [
    "#### Display the trending Python repositories in GitHub\n",
    "\n",
    "The steps to solve this problem is similar to the previous one except that you need to find out the repository names instead of developer names."
   ]
  },
  {
   "cell_type": "code",
   "execution_count": 118,
   "metadata": {},
   "outputs": [],
   "source": [
    "url = 'https://github.com/trending/python?since=daily'\n",
    "\n",
    "data = requests.get(url).text\n",
    "\n",
    "soup = BeautifulSoup(data, 'html.parser')\n",
    "# Dejo sin printear el soup para que no os aparezca todo el tochaco."
   ]
  },
  {
   "cell_type": "code",
   "execution_count": 119,
   "metadata": {},
   "outputs": [
    {
     "data": {
      "text/plain": [
       "['BlankerL/DXY-2019-nCoV-Crawler',\n",
       " 'gto76/python-cheatsheet',\n",
       " 'smicallef/spiderfoot',\n",
       " 'sebastianruder/NLP-progress',\n",
       " 'rish-16/sight',\n",
       " 'luong-komorebi/Awesome-Linux-Software',\n",
       " 'vinta/awesome-python',\n",
       " 'nicrusso7/rex-gym',\n",
       " 'baowenbo/DAIN',\n",
       " 'eastlakeside/interpy-zh',\n",
       " 'tiangolo/fastapi',\n",
       " 'explosion/thinc',\n",
       " 'willmcgugan/rich',\n",
       " 'MatthewPierson/Vieux',\n",
       " 'CCExtractor/vardbg',\n",
       " 'dragen1860/Deep-Learning-with-TensorFlow-book',\n",
       " 'brendangregg/bpf-perf-tools-book',\n",
       " 'googleapis/google-cloud-python',\n",
       " 'anchore/anchore-engine',\n",
       " 'aj-4/tinder-swipe-bot',\n",
       " 'pytorch/captum',\n",
       " 'samuelhwilliams/Eel',\n",
       " 'salesforce/policy_sentry',\n",
       " 'yzhao062/anomaly-detection-resources',\n",
       " 'vineetjohn/daily-coding-problem']"
      ]
     },
     "execution_count": 119,
     "metadata": {},
     "output_type": "execute_result"
    }
   ],
   "source": [
    "tag = soup.select('h1[class=\"h3 lh-condensed\"] a')\n",
    "\n",
    "def developers(tag):\n",
    "    return tag.attrs['href']\n",
    "\n",
    "result = [developers(x) for x in tag]\n",
    "\n",
    "lista = []\n",
    "\n",
    "for x in result:\n",
    "    lista.append(x[1:])\n",
    "    \n",
    "list(filter(lambda x: x,lista))"
   ]
  },
  {
   "cell_type": "markdown",
   "metadata": {},
   "source": [
    "#### Display all the image links from Walt Disney wikipedia page"
   ]
  },
  {
   "cell_type": "code",
   "execution_count": 120,
   "metadata": {},
   "outputs": [],
   "source": [
    "url = 'https://en.wikipedia.org/wiki/Walt_Disney'\n",
    "\n",
    "data = requests.get(url).text\n",
    "\n",
    "soup = BeautifulSoup(data, 'html.parser')\n",
    "# Dejo sin printear el soup para que no os aparezca todo el tochaco."
   ]
  },
  {
   "cell_type": "code",
   "execution_count": 121,
   "metadata": {},
   "outputs": [
    {
     "data": {
      "text/plain": [
       "['https://upload.wikimedia.org/wikipedia/commons/thumb/c/c4/Walt_Disney_envelope_ca._1921.jpg/220px-Walt_Disney_envelope_ca._1921.jpg',\n",
       " 'https://upload.wikimedia.org/wikipedia/commons/thumb/4/4d/Newman_Laugh-O-Gram_%281921%29.webm/220px-seek%3D2-Newman_Laugh-O-Gram_%281921%29.webm.jpg',\n",
       " 'https://upload.wikimedia.org/wikipedia/commons/thumb/0/0d/Trolley_Troubles_poster.jpg/170px-Trolley_Troubles_poster.jpg',\n",
       " 'https://upload.wikimedia.org/wikipedia/commons/thumb/7/71/Walt_Disney_and_his_cartoon_creation_%22Mickey_Mouse%22_-_National_Board_of_Review_Magazine.jpg/170px-Walt_Disney_and_his_cartoon_creation_%22Mickey_Mouse%22_-_National_Board_of_Review_Magazine.jpg',\n",
       " 'https://upload.wikimedia.org/wikipedia/en/thumb/4/4e/Steamboat-willie.jpg/170px-Steamboat-willie.jpg',\n",
       " 'https://upload.wikimedia.org/wikipedia/commons/thumb/5/57/Walt_Disney_1935.jpg/170px-Walt_Disney_1935.jpg',\n",
       " 'https://upload.wikimedia.org/wikipedia/commons/thumb/c/cd/Walt_Disney_Snow_white_1937_trailer_screenshot_%2813%29.jpg/220px-Walt_Disney_Snow_white_1937_trailer_screenshot_%2813%29.jpg',\n",
       " 'https://upload.wikimedia.org/wikipedia/commons/thumb/1/15/Disney_drawing_goofy.jpg/170px-Disney_drawing_goofy.jpg',\n",
       " 'https://upload.wikimedia.org/wikipedia/commons/thumb/1/13/DisneySchiphol1951.jpg/220px-DisneySchiphol1951.jpg',\n",
       " 'https://upload.wikimedia.org/wikipedia/commons/thumb/8/8c/WaltDisneyplansDisneylandDec1954.jpg/220px-WaltDisneyplansDisneylandDec1954.jpg',\n",
       " 'https://upload.wikimedia.org/wikipedia/commons/thumb/f/ff/Walt_disney_portrait_right.jpg/170px-Walt_disney_portrait_right.jpg',\n",
       " 'https://upload.wikimedia.org/wikipedia/commons/thumb/2/2d/Roy_O._Disney_with_Company_at_Press_Conference.jpg/170px-Roy_O._Disney_with_Company_at_Press_Conference.jpg',\n",
       " 'https://upload.wikimedia.org/wikipedia/commons/thumb/6/6c/Disney1968.jpg/170px-Disney1968.jpg',\n",
       " 'https://upload.wikimedia.org/wikipedia/commons/thumb/1/1a/Magic_Kingdom_castle.jpg/24px-Magic_Kingdom_castle.jpg']"
      ]
     },
     "execution_count": 121,
     "metadata": {},
     "output_type": "execute_result"
    }
   ],
   "source": [
    "tag = soup.select('img')\n",
    "\n",
    "def images(tag):\n",
    "    return tag.attrs['src']\n",
    "\n",
    "src = [images(x) for x in tag]\n",
    "                     \n",
    "lista = []\n",
    "\n",
    "for x in src:\n",
    "    if '.jpg' in x:\n",
    "        lista.append('https:'+x)\n",
    "\n",
    "list(filter(lambda x: x,lista))"
   ]
  },
  {
   "cell_type": "markdown",
   "metadata": {},
   "source": [
    "#### Retrieve an arbitary Wikipedia page of \"Python\" and create a list of links on that page"
   ]
  },
  {
   "cell_type": "code",
   "execution_count": 122,
   "metadata": {},
   "outputs": [],
   "source": [
    "url ='https://en.wikipedia.org/wiki/Python'\n",
    "\n",
    "data = requests.get(url).text\n",
    "\n",
    "soup = BeautifulSoup(data, 'html.parser')\n",
    "# Dejo sin printear el soup para que no os aparezca todo el tochaco."
   ]
  },
  {
   "cell_type": "code",
   "execution_count": 123,
   "metadata": {},
   "outputs": [
    {
     "data": {
      "text/plain": [
       "['https://en.wiktionary.org/wiki/Python',\n",
       " 'https://en.wiktionary.org/wiki/python',\n",
       " 'https://en.wikipedia.org/w/index.php?title=Special:WhatLinksHere/Python&namespace=0',\n",
       " 'https://af.wikipedia.org/wiki/Python',\n",
       " 'https://als.wikipedia.org/wiki/Python',\n",
       " 'https://az.wikipedia.org/wiki/Python',\n",
       " 'https://bn.wikipedia.org/wiki/%E0%A6%AA%E0%A6%BE%E0%A6%87%E0%A6%A5%E0%A6%A8_(%E0%A6%A6%E0%A7%8D%E0%A6%AC%E0%A7%8D%E0%A6%AF%E0%A6%B0%E0%A7%8D%E0%A6%A5%E0%A6%A4%E0%A6%BE_%E0%A6%A8%E0%A6%BF%E0%A6%B0%E0%A6%B8%E0%A6%A8)',\n",
       " 'https://be.wikipedia.org/wiki/Python',\n",
       " 'https://bg.wikipedia.org/wiki/%D0%9F%D0%B8%D1%82%D0%BE%D0%BD_(%D0%BF%D0%BE%D1%8F%D1%81%D0%BD%D0%B5%D0%BD%D0%B8%D0%B5)',\n",
       " 'https://cs.wikipedia.org/wiki/Python_(rozcestn%C3%ADk)',\n",
       " 'https://da.wikipedia.org/wiki/Python',\n",
       " 'https://de.wikipedia.org/wiki/Python',\n",
       " 'https://eo.wikipedia.org/wiki/Pitono_(apartigilo)',\n",
       " 'https://eu.wikipedia.org/wiki/Python_(argipena)',\n",
       " 'https://fa.wikipedia.org/wiki/%D9%BE%D8%A7%DB%8C%D8%AA%D9%88%D9%86',\n",
       " 'https://fr.wikipedia.org/wiki/Python',\n",
       " 'https://ko.wikipedia.org/wiki/%ED%8C%8C%EC%9D%B4%EC%84%A0',\n",
       " 'https://hr.wikipedia.org/wiki/Python_(razdvojba)',\n",
       " 'https://io.wikipedia.org/wiki/Pitono',\n",
       " 'https://id.wikipedia.org/wiki/Python',\n",
       " 'https://ia.wikipedia.org/wiki/Python_(disambiguation)',\n",
       " 'https://is.wikipedia.org/wiki/Python_(a%C3%B0greining)',\n",
       " 'https://it.wikipedia.org/wiki/Python_(disambigua)',\n",
       " 'https://he.wikipedia.org/wiki/%D7%A4%D7%99%D7%AA%D7%95%D7%9F',\n",
       " 'https://ka.wikipedia.org/wiki/%E1%83%9E%E1%83%98%E1%83%97%E1%83%9D%E1%83%9C%E1%83%98_(%E1%83%9B%E1%83%A0%E1%83%90%E1%83%95%E1%83%90%E1%83%9A%E1%83%9B%E1%83%9C%E1%83%98%E1%83%A8%E1%83%95%E1%83%9C%E1%83%94%E1%83%9A%E1%83%9D%E1%83%95%E1%83%90%E1%83%9C%E1%83%98)',\n",
       " 'https://kg.wikipedia.org/wiki/Mboma_(nyoka)',\n",
       " 'https://la.wikipedia.org/wiki/Python_(discretiva)',\n",
       " 'https://lb.wikipedia.org/wiki/Python',\n",
       " 'https://hu.wikipedia.org/wiki/Python_(egy%C3%A9rtelm%C5%B1s%C3%ADt%C5%91_lap)',\n",
       " 'https://mr.wikipedia.org/wiki/%E0%A4%AA%E0%A4%BE%E0%A4%AF%E0%A4%A5%E0%A5%89%E0%A4%A8_(%E0%A4%86%E0%A4%9C%E0%A5%8D%E0%A4%9E%E0%A4%BE%E0%A4%B5%E0%A4%B2%E0%A5%80_%E0%A4%AD%E0%A4%BE%E0%A4%B7%E0%A4%BE)',\n",
       " 'https://nl.wikipedia.org/wiki/Python',\n",
       " 'https://ja.wikipedia.org/wiki/%E3%83%91%E3%82%A4%E3%82%BD%E3%83%B3',\n",
       " 'https://no.wikipedia.org/wiki/Pyton',\n",
       " 'https://pl.wikipedia.org/wiki/Pyton',\n",
       " 'https://pt.wikipedia.org/wiki/Python_(desambigua%C3%A7%C3%A3o)',\n",
       " 'https://ru.wikipedia.org/wiki/Python_(%D0%B7%D0%BD%D0%B0%D1%87%D0%B5%D0%BD%D0%B8%D1%8F)',\n",
       " 'https://sk.wikipedia.org/wiki/Python',\n",
       " 'https://sr.wikipedia.org/wiki/%D0%9F%D0%B8%D1%82%D0%BE%D0%BD_(%D0%B2%D0%B8%D1%88%D0%B5%D0%B7%D0%BD%D0%B0%D1%87%D0%BD%D0%B0_%D0%BE%D0%B4%D1%80%D0%B5%D0%B4%D0%BD%D0%B8%D1%86%D0%B0)',\n",
       " 'https://sh.wikipedia.org/wiki/Python',\n",
       " 'https://fi.wikipedia.org/wiki/Python',\n",
       " 'https://sv.wikipedia.org/wiki/Pyton',\n",
       " 'https://th.wikipedia.org/wiki/%E0%B9%84%E0%B8%9E%E0%B8%97%E0%B8%AD%E0%B8%99',\n",
       " 'https://tr.wikipedia.org/wiki/Python',\n",
       " 'https://uk.wikipedia.org/wiki/%D0%9F%D1%96%D1%84%D0%BE%D0%BD',\n",
       " 'https://ur.wikipedia.org/wiki/%D9%BE%D8%A7%D8%A6%DB%8C%D8%AA%DA%BE%D9%88%D9%86',\n",
       " 'https://vi.wikipedia.org/wiki/Python',\n",
       " 'https://zh.wikipedia.org/wiki/Python_(%E6%B6%88%E6%AD%A7%E4%B9%89)',\n",
       " 'https://www.wikidata.org/wiki/Special:EntityPage/Q747452#sitelinks-wikipedia',\n",
       " 'https://foundation.wikimedia.org/wiki/Privacy_policy']"
      ]
     },
     "execution_count": 123,
     "metadata": {},
     "output_type": "execute_result"
    }
   ],
   "source": [
    "tag = soup.select('a[class]')\n",
    "\n",
    "def links(tag):\n",
    "    if 'href' not in x:\n",
    "        pass\n",
    "    return tag.attrs['href']\n",
    "\n",
    "link = [links(x) for x in tag]\n",
    "\n",
    "lista = []\n",
    "\n",
    "for x in link:\n",
    "    if 'http' in x:\n",
    "        lista.append(x)\n",
    "\n",
    "list(filter(lambda x: x,lista))"
   ]
  },
  {
   "cell_type": "markdown",
   "metadata": {},
   "source": [
    "#### Number of Titles that have changed in the United States Code since its last release point "
   ]
  },
  {
   "cell_type": "code",
   "execution_count": 161,
   "metadata": {},
   "outputs": [],
   "source": [
    "url = 'http://uscode.house.gov/download/download.shtml'\n",
    "\n",
    "data = requests.get(url).text\n",
    "\n",
    "soup = BeautifulSoup(data, 'html.parser')\n",
    "# Dejo sin printear el soup para que no os aparezca todo el tochaco."
   ]
  },
  {
   "cell_type": "code",
   "execution_count": 180,
   "metadata": {},
   "outputs": [
    {
     "data": {
      "text/plain": [
       "['Title 18 - Crimes and Criminal Procedure ٭',\n",
       " 'Title 20 - Education',\n",
       " 'Title 26 - Internal Revenue Code']"
      ]
     },
     "execution_count": 180,
     "metadata": {},
     "output_type": "execute_result"
    }
   ],
   "source": [
    "tag = soup.select('div[class=\"usctitlechanged\"]')\n",
    "\n",
    "def titles(tag):\n",
    "    return tag.text\n",
    "\n",
    "divs = [titles(title) for title in tag]\n",
    "\n",
    "lista = []\n",
    "\n",
    "for x in divs:\n",
    "    a = x.strip()\n",
    "    lista.append(a)\n",
    "\n",
    "list(filter(lambda x: x,lista))"
   ]
  },
  {
   "cell_type": "markdown",
   "metadata": {},
   "source": [
    "#### A Python list with the top ten FBI's Most Wanted names "
   ]
  },
  {
   "cell_type": "code",
   "execution_count": 125,
   "metadata": {},
   "outputs": [],
   "source": [
    "url = 'https://www.fbi.gov/wanted/topten'\n",
    "\n",
    "data = requests.get(url).text\n",
    "\n",
    "soup = BeautifulSoup(data, 'html.parser')\n",
    "# Dejo sin printear el soup para que no os aparezca todo el tochaco."
   ]
  },
  {
   "cell_type": "code",
   "execution_count": 127,
   "metadata": {},
   "outputs": [
    {
     "data": {
      "text/plain": [
       "['JASON DEREK BROWN',\n",
       " 'ALEXIS FLORES',\n",
       " 'EUGENE PALMER',\n",
       " 'SANTIAGO VILLALBA MEDEROS',\n",
       " 'RAFAEL CARO-QUINTERO',\n",
       " 'ROBERT WILLIAM FISHER',\n",
       " 'BHADRESHKUMAR CHETANBHAI PATEL',\n",
       " 'ARNOLDO JIMENEZ',\n",
       " 'ALEJANDRO ROSALES CASTILLO',\n",
       " 'YASER ABDEL SAID']"
      ]
     },
     "execution_count": 127,
     "metadata": {},
     "output_type": "execute_result"
    }
   ],
   "source": [
    "tag = soup.select('h3[class=\"title\"] a')\n",
    "\n",
    "def wanted(tag):\n",
    "    return tag.text\n",
    "\n",
    "result = [wanted(x) for x in tag]\n",
    "\n",
    "list(filter(lambda x: x,result))"
   ]
  },
  {
   "cell_type": "markdown",
   "metadata": {},
   "source": [
    "####  20 latest earthquakes info (date, time, latitude, longitude and region name) by the EMSC as a pandas dataframe"
   ]
  },
  {
   "cell_type": "code",
   "execution_count": 150,
   "metadata": {},
   "outputs": [],
   "source": [
    "url = 'https://www.emsc-csem.org/Earthquake/'\n",
    "\n",
    "data = requests.get(url).text\n",
    "\n",
    "soup = BeautifulSoup(data, 'html.parser')\n",
    "# Dejo sin printear el soup para que no os aparezca todo el tochaco."
   ]
  },
  {
   "cell_type": "code",
   "execution_count": 151,
   "metadata": {},
   "outputs": [
    {
     "data": {
      "text/html": [
       "<div>\n",
       "<style scoped>\n",
       "    .dataframe tbody tr th:only-of-type {\n",
       "        vertical-align: middle;\n",
       "    }\n",
       "\n",
       "    .dataframe tbody tr th {\n",
       "        vertical-align: top;\n",
       "    }\n",
       "\n",
       "    .dataframe thead th {\n",
       "        text-align: right;\n",
       "    }\n",
       "</style>\n",
       "<table border=\"1\" class=\"dataframe\">\n",
       "  <thead>\n",
       "    <tr style=\"text-align: right;\">\n",
       "      <th></th>\n",
       "      <th>Date &amp; Time</th>\n",
       "      <th>Latitude</th>\n",
       "      <th>Longitude</th>\n",
       "      <th>Region name</th>\n",
       "    </tr>\n",
       "  </thead>\n",
       "  <tbody>\n",
       "    <tr>\n",
       "      <th>0</th>\n",
       "      <td>2020-01-30   18:56:47.6</td>\n",
       "      <td>38.99</td>\n",
       "      <td>27.87</td>\n",
       "      <td>WESTERN TURKEY</td>\n",
       "    </tr>\n",
       "    <tr>\n",
       "      <th>1</th>\n",
       "      <td>2020-01-30   18:43:40.8</td>\n",
       "      <td>35.19</td>\n",
       "      <td>27.96</td>\n",
       "      <td>DODECANESE ISLANDS, GREECE</td>\n",
       "    </tr>\n",
       "    <tr>\n",
       "      <th>2</th>\n",
       "      <td>2020-01-30   18:42:54.0</td>\n",
       "      <td>19.20</td>\n",
       "      <td>155.45</td>\n",
       "      <td>ISLAND OF HAWAII, HAWAII</td>\n",
       "    </tr>\n",
       "    <tr>\n",
       "      <th>3</th>\n",
       "      <td>2020-01-30   18:40:03.8</td>\n",
       "      <td>35.93</td>\n",
       "      <td>28.11</td>\n",
       "      <td>EASTERN MEDITERRANEAN SEA</td>\n",
       "    </tr>\n",
       "    <tr>\n",
       "      <th>4</th>\n",
       "      <td>2020-01-30   18:38:55.5</td>\n",
       "      <td>39.01</td>\n",
       "      <td>27.86</td>\n",
       "      <td>WESTERN TURKEY</td>\n",
       "    </tr>\n",
       "    <tr>\n",
       "      <th>5</th>\n",
       "      <td>2020-01-30   18:36:42.5</td>\n",
       "      <td>38.45</td>\n",
       "      <td>39.19</td>\n",
       "      <td>EASTERN TURKEY</td>\n",
       "    </tr>\n",
       "    <tr>\n",
       "      <th>6</th>\n",
       "      <td>2020-01-30   18:34:00.1</td>\n",
       "      <td>49.97</td>\n",
       "      <td>177.83</td>\n",
       "      <td>SOUTH OF ALEUTIAN ISLANDS</td>\n",
       "    </tr>\n",
       "    <tr>\n",
       "      <th>7</th>\n",
       "      <td>2020-01-30   18:28:47.1</td>\n",
       "      <td>38.20</td>\n",
       "      <td>38.73</td>\n",
       "      <td>EASTERN TURKEY</td>\n",
       "    </tr>\n",
       "    <tr>\n",
       "      <th>8</th>\n",
       "      <td>2020-01-30   18:28:36.3</td>\n",
       "      <td>39.03</td>\n",
       "      <td>27.85</td>\n",
       "      <td>WESTERN TURKEY</td>\n",
       "    </tr>\n",
       "    <tr>\n",
       "      <th>9</th>\n",
       "      <td>2020-01-30   18:26:20.9</td>\n",
       "      <td>35.25</td>\n",
       "      <td>27.97</td>\n",
       "      <td>DODECANESE ISLANDS, GREECE</td>\n",
       "    </tr>\n",
       "    <tr>\n",
       "      <th>10</th>\n",
       "      <td>2020-01-30   18:09:11.4</td>\n",
       "      <td>41.79</td>\n",
       "      <td>20.12</td>\n",
       "      <td>ALBANIA</td>\n",
       "    </tr>\n",
       "    <tr>\n",
       "      <th>11</th>\n",
       "      <td>2020-01-30   17:58:07.9</td>\n",
       "      <td>9.95</td>\n",
       "      <td>160.90</td>\n",
       "      <td>SOLOMON ISLANDS</td>\n",
       "    </tr>\n",
       "    <tr>\n",
       "      <th>12</th>\n",
       "      <td>2020-01-30   17:57:57.1</td>\n",
       "      <td>39.09</td>\n",
       "      <td>30.17</td>\n",
       "      <td>WESTERN TURKEY</td>\n",
       "    </tr>\n",
       "    <tr>\n",
       "      <th>13</th>\n",
       "      <td>2020-01-30   17:34:59.0</td>\n",
       "      <td>38.40</td>\n",
       "      <td>15.36</td>\n",
       "      <td>SICILY, ITALY</td>\n",
       "    </tr>\n",
       "    <tr>\n",
       "      <th>14</th>\n",
       "      <td>2020-01-30   17:29:59.7</td>\n",
       "      <td>35.09</td>\n",
       "      <td>95.22</td>\n",
       "      <td>OKLAHOMA</td>\n",
       "    </tr>\n",
       "    <tr>\n",
       "      <th>15</th>\n",
       "      <td>2020-01-30   17:29:14.5</td>\n",
       "      <td>35.31</td>\n",
       "      <td>28.03</td>\n",
       "      <td>EASTERN MEDITERRANEAN SEA</td>\n",
       "    </tr>\n",
       "    <tr>\n",
       "      <th>16</th>\n",
       "      <td>2020-01-30   17:26:26.5</td>\n",
       "      <td>19.45</td>\n",
       "      <td>155.19</td>\n",
       "      <td>ISLAND OF HAWAII, HAWAII</td>\n",
       "    </tr>\n",
       "    <tr>\n",
       "      <th>17</th>\n",
       "      <td>2020-01-30   17:21:08.1</td>\n",
       "      <td>17.97</td>\n",
       "      <td>66.78</td>\n",
       "      <td>PUERTO RICO REGION</td>\n",
       "    </tr>\n",
       "    <tr>\n",
       "      <th>18</th>\n",
       "      <td>2020-01-30   17:15:36.0</td>\n",
       "      <td>17.96</td>\n",
       "      <td>66.78</td>\n",
       "      <td>PUERTO RICO REGION</td>\n",
       "    </tr>\n",
       "    <tr>\n",
       "      <th>19</th>\n",
       "      <td>2020-01-30   17:10:27.5</td>\n",
       "      <td>17.96</td>\n",
       "      <td>66.76</td>\n",
       "      <td>PUERTO RICO REGION</td>\n",
       "    </tr>\n",
       "    <tr>\n",
       "      <th>20</th>\n",
       "      <td>2020-01-30   17:10:22.6</td>\n",
       "      <td>20.01</td>\n",
       "      <td>155.62</td>\n",
       "      <td>HAWAII REGION, HAWAII</td>\n",
       "    </tr>\n",
       "    <tr>\n",
       "      <th>21</th>\n",
       "      <td>2020-01-30   17:08:59.0</td>\n",
       "      <td>8.25</td>\n",
       "      <td>118.05</td>\n",
       "      <td>SUMBAWA REGION, INDONESIA</td>\n",
       "    </tr>\n",
       "    <tr>\n",
       "      <th>22</th>\n",
       "      <td>2020-01-30   17:07:34.0</td>\n",
       "      <td>36.70</td>\n",
       "      <td>121.33</td>\n",
       "      <td>CENTRAL CALIFORNIA</td>\n",
       "    </tr>\n",
       "    <tr>\n",
       "      <th>23</th>\n",
       "      <td>2020-01-30   17:06:15.8</td>\n",
       "      <td>17.98</td>\n",
       "      <td>66.86</td>\n",
       "      <td>PUERTO RICO</td>\n",
       "    </tr>\n",
       "    <tr>\n",
       "      <th>24</th>\n",
       "      <td>2020-01-30   16:59:40.3</td>\n",
       "      <td>19.39</td>\n",
       "      <td>155.28</td>\n",
       "      <td>ISLAND OF HAWAII, HAWAII</td>\n",
       "    </tr>\n",
       "    <tr>\n",
       "      <th>25</th>\n",
       "      <td>2020-01-30   16:48:05.9</td>\n",
       "      <td>19.42</td>\n",
       "      <td>155.28</td>\n",
       "      <td>ISLAND OF HAWAII, HAWAII</td>\n",
       "    </tr>\n",
       "    <tr>\n",
       "      <th>26</th>\n",
       "      <td>2020-01-30   16:24:22.5</td>\n",
       "      <td>35.13</td>\n",
       "      <td>27.95</td>\n",
       "      <td>DODECANESE ISLANDS, GREECE</td>\n",
       "    </tr>\n",
       "    <tr>\n",
       "      <th>27</th>\n",
       "      <td>2020-01-30   16:20:41.0</td>\n",
       "      <td>35.38</td>\n",
       "      <td>28.05</td>\n",
       "      <td>EASTERN MEDITERRANEAN SEA</td>\n",
       "    </tr>\n",
       "    <tr>\n",
       "      <th>28</th>\n",
       "      <td>2020-01-30   16:07:04.6</td>\n",
       "      <td>35.66</td>\n",
       "      <td>117.48</td>\n",
       "      <td>SOUTHERN CALIFORNIA</td>\n",
       "    </tr>\n",
       "    <tr>\n",
       "      <th>29</th>\n",
       "      <td>2020-01-30   16:03:06.9</td>\n",
       "      <td>36.70</td>\n",
       "      <td>121.36</td>\n",
       "      <td>CENTRAL CALIFORNIA</td>\n",
       "    </tr>\n",
       "    <tr>\n",
       "      <th>30</th>\n",
       "      <td>2020-01-30   15:58:49.6</td>\n",
       "      <td>31.13</td>\n",
       "      <td>103.25</td>\n",
       "      <td>WESTERN TEXAS</td>\n",
       "    </tr>\n",
       "    <tr>\n",
       "      <th>31</th>\n",
       "      <td>2020-01-30   15:53:50.1</td>\n",
       "      <td>35.28</td>\n",
       "      <td>28.09</td>\n",
       "      <td>EASTERN MEDITERRANEAN SEA</td>\n",
       "    </tr>\n",
       "    <tr>\n",
       "      <th>32</th>\n",
       "      <td>2020-01-30   15:47:59.5</td>\n",
       "      <td>19.49</td>\n",
       "      <td>155.24</td>\n",
       "      <td>ISLAND OF HAWAII, HAWAII</td>\n",
       "    </tr>\n",
       "    <tr>\n",
       "      <th>33</th>\n",
       "      <td>2020-01-30   15:43:23.7</td>\n",
       "      <td>40.35</td>\n",
       "      <td>27.13</td>\n",
       "      <td>WESTERN TURKEY</td>\n",
       "    </tr>\n",
       "    <tr>\n",
       "      <th>34</th>\n",
       "      <td>2020-01-30   15:37:07.0</td>\n",
       "      <td>0.41</td>\n",
       "      <td>124.13</td>\n",
       "      <td>MOLUCCA SEA</td>\n",
       "    </tr>\n",
       "    <tr>\n",
       "      <th>35</th>\n",
       "      <td>2020-01-30   15:31:32.7</td>\n",
       "      <td>19.12</td>\n",
       "      <td>155.42</td>\n",
       "      <td>ISLAND OF HAWAII, HAWAII</td>\n",
       "    </tr>\n",
       "    <tr>\n",
       "      <th>36</th>\n",
       "      <td>2020-01-30   15:31:31.5</td>\n",
       "      <td>39.24</td>\n",
       "      <td>18.72</td>\n",
       "      <td>SOUTHERN ITALY</td>\n",
       "    </tr>\n",
       "    <tr>\n",
       "      <th>37</th>\n",
       "      <td>2020-01-30   15:30:47.4</td>\n",
       "      <td>39.06</td>\n",
       "      <td>27.86</td>\n",
       "      <td>WESTERN TURKEY</td>\n",
       "    </tr>\n",
       "    <tr>\n",
       "      <th>38</th>\n",
       "      <td>2020-01-30   15:28:46.2</td>\n",
       "      <td>17.90</td>\n",
       "      <td>66.63</td>\n",
       "      <td>PUERTO RICO REGION</td>\n",
       "    </tr>\n",
       "    <tr>\n",
       "      <th>39</th>\n",
       "      <td>2020-01-30   15:27:18.0</td>\n",
       "      <td>49.41</td>\n",
       "      <td>0.01</td>\n",
       "      <td>FRANCE</td>\n",
       "    </tr>\n",
       "    <tr>\n",
       "      <th>40</th>\n",
       "      <td>2020-01-30   15:24:22.0</td>\n",
       "      <td>16.85</td>\n",
       "      <td>100.10</td>\n",
       "      <td>OFFSHORE GUERRERO, MEXICO</td>\n",
       "    </tr>\n",
       "    <tr>\n",
       "      <th>41</th>\n",
       "      <td>2020-01-30   15:12:32.6</td>\n",
       "      <td>35.28</td>\n",
       "      <td>28.06</td>\n",
       "      <td>EASTERN MEDITERRANEAN SEA</td>\n",
       "    </tr>\n",
       "    <tr>\n",
       "      <th>42</th>\n",
       "      <td>2020-01-30   15:02:42.4</td>\n",
       "      <td>39.08</td>\n",
       "      <td>27.85</td>\n",
       "      <td>WESTERN TURKEY</td>\n",
       "    </tr>\n",
       "    <tr>\n",
       "      <th>43</th>\n",
       "      <td>2020-01-30   15:00:42.9</td>\n",
       "      <td>56.45</td>\n",
       "      <td>150.00</td>\n",
       "      <td>GULF OF ALASKA</td>\n",
       "    </tr>\n",
       "    <tr>\n",
       "      <th>44</th>\n",
       "      <td>2020-01-30   14:48:15.7</td>\n",
       "      <td>39.09</td>\n",
       "      <td>27.83</td>\n",
       "      <td>WESTERN TURKEY</td>\n",
       "    </tr>\n",
       "    <tr>\n",
       "      <th>45</th>\n",
       "      <td>2020-01-30   14:43:53.4</td>\n",
       "      <td>36.70</td>\n",
       "      <td>121.34</td>\n",
       "      <td>CENTRAL CALIFORNIA</td>\n",
       "    </tr>\n",
       "    <tr>\n",
       "      <th>46</th>\n",
       "      <td>2020-01-30   14:21:45.6</td>\n",
       "      <td>39.09</td>\n",
       "      <td>27.81</td>\n",
       "      <td>WESTERN TURKEY</td>\n",
       "    </tr>\n",
       "    <tr>\n",
       "      <th>47</th>\n",
       "      <td>2020-01-30   14:18:04.3</td>\n",
       "      <td>38.53</td>\n",
       "      <td>122.33</td>\n",
       "      <td>NORTHERN CALIFORNIA</td>\n",
       "    </tr>\n",
       "    <tr>\n",
       "      <th>48</th>\n",
       "      <td>2020-01-30   14:10:03.1</td>\n",
       "      <td>35.03</td>\n",
       "      <td>28.01</td>\n",
       "      <td>EASTERN MEDITERRANEAN SEA</td>\n",
       "    </tr>\n",
       "    <tr>\n",
       "      <th>49</th>\n",
       "      <td>2020-01-30   14:04:30.3</td>\n",
       "      <td>19.24</td>\n",
       "      <td>155.42</td>\n",
       "      <td>ISLAND OF HAWAII, HAWAII</td>\n",
       "    </tr>\n",
       "  </tbody>\n",
       "</table>\n",
       "</div>"
      ],
      "text/plain": [
       "                Date & Time  Latitude  Longitude                  Region name\n",
       "0   2020-01-30   18:56:47.6     38.99      27.87               WESTERN TURKEY\n",
       "1   2020-01-30   18:43:40.8     35.19      27.96   DODECANESE ISLANDS, GREECE\n",
       "2   2020-01-30   18:42:54.0     19.20     155.45     ISLAND OF HAWAII, HAWAII\n",
       "3   2020-01-30   18:40:03.8     35.93      28.11    EASTERN MEDITERRANEAN SEA\n",
       "4   2020-01-30   18:38:55.5     39.01      27.86               WESTERN TURKEY\n",
       "5   2020-01-30   18:36:42.5     38.45      39.19               EASTERN TURKEY\n",
       "6   2020-01-30   18:34:00.1     49.97     177.83    SOUTH OF ALEUTIAN ISLANDS\n",
       "7   2020-01-30   18:28:47.1     38.20      38.73               EASTERN TURKEY\n",
       "8   2020-01-30   18:28:36.3     39.03      27.85               WESTERN TURKEY\n",
       "9   2020-01-30   18:26:20.9     35.25      27.97   DODECANESE ISLANDS, GREECE\n",
       "10  2020-01-30   18:09:11.4     41.79      20.12                      ALBANIA\n",
       "11  2020-01-30   17:58:07.9      9.95     160.90              SOLOMON ISLANDS\n",
       "12  2020-01-30   17:57:57.1     39.09      30.17               WESTERN TURKEY\n",
       "13  2020-01-30   17:34:59.0     38.40      15.36                SICILY, ITALY\n",
       "14  2020-01-30   17:29:59.7     35.09      95.22                     OKLAHOMA\n",
       "15  2020-01-30   17:29:14.5     35.31      28.03    EASTERN MEDITERRANEAN SEA\n",
       "16  2020-01-30   17:26:26.5     19.45     155.19     ISLAND OF HAWAII, HAWAII\n",
       "17  2020-01-30   17:21:08.1     17.97      66.78           PUERTO RICO REGION\n",
       "18  2020-01-30   17:15:36.0     17.96      66.78           PUERTO RICO REGION\n",
       "19  2020-01-30   17:10:27.5     17.96      66.76           PUERTO RICO REGION\n",
       "20  2020-01-30   17:10:22.6     20.01     155.62        HAWAII REGION, HAWAII\n",
       "21  2020-01-30   17:08:59.0      8.25     118.05    SUMBAWA REGION, INDONESIA\n",
       "22  2020-01-30   17:07:34.0     36.70     121.33           CENTRAL CALIFORNIA\n",
       "23  2020-01-30   17:06:15.8     17.98      66.86                  PUERTO RICO\n",
       "24  2020-01-30   16:59:40.3     19.39     155.28     ISLAND OF HAWAII, HAWAII\n",
       "25  2020-01-30   16:48:05.9     19.42     155.28     ISLAND OF HAWAII, HAWAII\n",
       "26  2020-01-30   16:24:22.5     35.13      27.95   DODECANESE ISLANDS, GREECE\n",
       "27  2020-01-30   16:20:41.0     35.38      28.05    EASTERN MEDITERRANEAN SEA\n",
       "28  2020-01-30   16:07:04.6     35.66     117.48          SOUTHERN CALIFORNIA\n",
       "29  2020-01-30   16:03:06.9     36.70     121.36           CENTRAL CALIFORNIA\n",
       "30  2020-01-30   15:58:49.6     31.13     103.25                WESTERN TEXAS\n",
       "31  2020-01-30   15:53:50.1     35.28      28.09    EASTERN MEDITERRANEAN SEA\n",
       "32  2020-01-30   15:47:59.5     19.49     155.24     ISLAND OF HAWAII, HAWAII\n",
       "33  2020-01-30   15:43:23.7     40.35      27.13               WESTERN TURKEY\n",
       "34  2020-01-30   15:37:07.0      0.41     124.13                  MOLUCCA SEA\n",
       "35  2020-01-30   15:31:32.7     19.12     155.42     ISLAND OF HAWAII, HAWAII\n",
       "36  2020-01-30   15:31:31.5     39.24      18.72               SOUTHERN ITALY\n",
       "37  2020-01-30   15:30:47.4     39.06      27.86               WESTERN TURKEY\n",
       "38  2020-01-30   15:28:46.2     17.90      66.63           PUERTO RICO REGION\n",
       "39  2020-01-30   15:27:18.0     49.41       0.01                       FRANCE\n",
       "40  2020-01-30   15:24:22.0     16.85     100.10    OFFSHORE GUERRERO, MEXICO\n",
       "41  2020-01-30   15:12:32.6     35.28      28.06    EASTERN MEDITERRANEAN SEA\n",
       "42  2020-01-30   15:02:42.4     39.08      27.85               WESTERN TURKEY\n",
       "43  2020-01-30   15:00:42.9     56.45     150.00               GULF OF ALASKA\n",
       "44  2020-01-30   14:48:15.7     39.09      27.83               WESTERN TURKEY\n",
       "45  2020-01-30   14:43:53.4     36.70     121.34           CENTRAL CALIFORNIA\n",
       "46  2020-01-30   14:21:45.6     39.09      27.81               WESTERN TURKEY\n",
       "47  2020-01-30   14:18:04.3     38.53     122.33          NORTHERN CALIFORNIA\n",
       "48  2020-01-30   14:10:03.1     35.03      28.01    EASTERN MEDITERRANEAN SEA\n",
       "49  2020-01-30   14:04:30.3     19.24     155.42     ISLAND OF HAWAII, HAWAII"
      ]
     },
     "metadata": {},
     "output_type": "display_data"
    }
   ],
   "source": [
    "tag = soup.select('tbody[id=\"tbody\"] tr')\n",
    "\n",
    "def earthquakes(tag):\n",
    "    a = tag.find_all('td')\n",
    "    return {\n",
    "        'Date & Time':a[3].find('a').text,\n",
    "        'Latitude':float((a[4].text)),\n",
    "        'Longitude':float((a[6].text)),\n",
    "        'Region name':a[11].text\n",
    "    }\n",
    "\n",
    "tables = [earthquakes(fila) for fila in tag]\n",
    "\n",
    "df = pd.DataFrame(tables)\n",
    "\n",
    "display(df)"
   ]
  },
  {
   "cell_type": "markdown",
   "metadata": {},
   "source": [
    "#### Display the date, days, title, city, country of next 25 hackathon events as a Pandas dataframe table"
   ]
  },
  {
   "cell_type": "code",
   "execution_count": null,
   "metadata": {},
   "outputs": [],
   "source": [
    "url ='https://hackevents.co/hackathons'\n",
    "# NO DUNCIONA LA URL"
   ]
  },
  {
   "cell_type": "markdown",
   "metadata": {},
   "source": [
    "#### Count number of tweets by a given Twitter account."
   ]
  },
  {
   "cell_type": "markdown",
   "metadata": {},
   "source": [
    "You will need to include a ***try/except block*** for account names not found. \n",
    "<br>***Hint:*** the program should count the number of tweets for any provided account"
   ]
  },
  {
   "cell_type": "code",
   "execution_count": null,
   "metadata": {},
   "outputs": [],
   "source": [
    "# This is the url you will scrape in this exercise \n",
    "# You will need to add the account credentials to this url\n",
    "url = 'https://twitter.com/'"
   ]
  },
  {
   "cell_type": "code",
   "execution_count": null,
   "metadata": {},
   "outputs": [],
   "source": [
    "#your code"
   ]
  },
  {
   "cell_type": "markdown",
   "metadata": {},
   "source": [
    "#### Number of followers of a given twitter account"
   ]
  },
  {
   "cell_type": "markdown",
   "metadata": {},
   "source": [
    "You will need to include a ***try/except block*** in case account/s name not found. \n",
    "<br>***Hint:*** the program should count the followers for any provided account"
   ]
  },
  {
   "cell_type": "code",
   "execution_count": null,
   "metadata": {},
   "outputs": [],
   "source": [
    "# This is the url you will scrape in this exercise \n",
    "# You will need to add the account credentials to this url\n",
    "url = 'https://twitter.com/'"
   ]
  },
  {
   "cell_type": "code",
   "execution_count": null,
   "metadata": {},
   "outputs": [],
   "source": [
    "#your code"
   ]
  },
  {
   "cell_type": "markdown",
   "metadata": {},
   "source": [
    "#### List all language names and number of related articles in the order they appear in wikipedia.org"
   ]
  },
  {
   "cell_type": "code",
   "execution_count": null,
   "metadata": {},
   "outputs": [],
   "source": [
    "# This is the url you will scrape in this exercise\n",
    "url = 'https://www.wikipedia.org/'"
   ]
  },
  {
   "cell_type": "code",
   "execution_count": null,
   "metadata": {},
   "outputs": [],
   "source": [
    "#your code"
   ]
  },
  {
   "cell_type": "markdown",
   "metadata": {},
   "source": [
    "#### A list with the different kind of datasets available in data.gov.uk "
   ]
  },
  {
   "cell_type": "code",
   "execution_count": null,
   "metadata": {},
   "outputs": [],
   "source": [
    "# This is the url you will scrape in this exercise\n",
    "url = 'https://data.gov.uk/'"
   ]
  },
  {
   "cell_type": "code",
   "execution_count": null,
   "metadata": {},
   "outputs": [],
   "source": [
    "#your code "
   ]
  },
  {
   "cell_type": "markdown",
   "metadata": {},
   "source": [
    "#### Top 10 languages by number of native speakers stored in a Pandas Dataframe"
   ]
  },
  {
   "cell_type": "code",
   "execution_count": null,
   "metadata": {},
   "outputs": [],
   "source": [
    "# This is the url you will scrape in this exercise\n",
    "url = 'https://en.wikipedia.org/wiki/List_of_languages_by_number_of_native_speakers'"
   ]
  },
  {
   "cell_type": "code",
   "execution_count": null,
   "metadata": {},
   "outputs": [],
   "source": [
    "#your code"
   ]
  },
  {
   "cell_type": "markdown",
   "metadata": {},
   "source": [
    "### BONUS QUESTIONS"
   ]
  },
  {
   "cell_type": "markdown",
   "metadata": {},
   "source": [
    "#### Scrape a certain number of tweets of a given Twitter account."
   ]
  },
  {
   "cell_type": "code",
   "execution_count": null,
   "metadata": {},
   "outputs": [],
   "source": [
    "# This is the url you will scrape in this exercise \n",
    "# You will need to add the account credentials to this url\n",
    "url = 'https://twitter.com/'"
   ]
  },
  {
   "cell_type": "code",
   "execution_count": null,
   "metadata": {},
   "outputs": [],
   "source": [
    "# your code"
   ]
  },
  {
   "cell_type": "markdown",
   "metadata": {},
   "source": [
    "#### IMDB's Top 250 data (movie name, Initial release, director name and stars) as a pandas dataframe"
   ]
  },
  {
   "cell_type": "code",
   "execution_count": null,
   "metadata": {},
   "outputs": [],
   "source": [
    "# This is the url you will scrape in this exercise \n",
    "url = 'https://www.imdb.com/chart/top'"
   ]
  },
  {
   "cell_type": "code",
   "execution_count": null,
   "metadata": {},
   "outputs": [],
   "source": [
    "# your code"
   ]
  },
  {
   "cell_type": "markdown",
   "metadata": {},
   "source": [
    "#### Movie name, year and a brief summary of the top 10 random movies (IMDB) as a pandas dataframe."
   ]
  },
  {
   "cell_type": "code",
   "execution_count": null,
   "metadata": {},
   "outputs": [],
   "source": [
    "#This is the url you will scrape in this exercise\n",
    "url = 'http://www.imdb.com/chart/top'"
   ]
  },
  {
   "cell_type": "code",
   "execution_count": null,
   "metadata": {},
   "outputs": [],
   "source": [
    "#your code"
   ]
  },
  {
   "cell_type": "markdown",
   "metadata": {},
   "source": [
    "#### Find the live weather report (temperature, wind speed, description and weather) of a given city."
   ]
  },
  {
   "cell_type": "code",
   "execution_count": null,
   "metadata": {},
   "outputs": [],
   "source": [
    "#https://openweathermap.org/current\n",
    "city = city=input('Enter the city:')\n",
    "url = 'http://api.openweathermap.org/data/2.5/weather?'+'q='+city+'&APPID=b35975e18dc93725acb092f7272cc6b8&units=metric'"
   ]
  },
  {
   "cell_type": "code",
   "execution_count": null,
   "metadata": {},
   "outputs": [],
   "source": [
    "# your code"
   ]
  },
  {
   "cell_type": "markdown",
   "metadata": {},
   "source": [
    "#### Book name,price and stock availability as a pandas dataframe."
   ]
  },
  {
   "cell_type": "code",
   "execution_count": null,
   "metadata": {},
   "outputs": [],
   "source": [
    "# This is the url you will scrape in this exercise. \n",
    "# It is a fictional bookstore created to be scraped. \n",
    "url = 'http://books.toscrape.com/'"
   ]
  },
  {
   "cell_type": "code",
   "execution_count": null,
   "metadata": {},
   "outputs": [],
   "source": [
    "#your code"
   ]
  }
 ],
 "metadata": {
  "kernelspec": {
   "display_name": "Python 3",
   "language": "python",
   "name": "python3"
  },
  "language_info": {
   "codemirror_mode": {
    "name": "ipython",
    "version": 3
   },
   "file_extension": ".py",
   "mimetype": "text/x-python",
   "name": "python",
   "nbconvert_exporter": "python",
   "pygments_lexer": "ipython3",
   "version": "3.6.9"
  }
 },
 "nbformat": 4,
 "nbformat_minor": 2
}
