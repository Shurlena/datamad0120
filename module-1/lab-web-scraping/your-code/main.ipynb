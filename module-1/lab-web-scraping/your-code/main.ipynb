{
 "cells": [
  {
   "cell_type": "markdown",
   "metadata": {},
   "source": [
    "# Web Scraping Lab\n",
    "\n",
    "You will find in this notebook some scrapy exercises to practise your scraping skills.\n",
    "\n",
    "**Tips:**\n",
    "\n",
    "- Check the response status code for each request to ensure you have obtained the intended contennt.\n",
    "- Print the response text in each request to understand the kind of info you are getting and its format.\n",
    "- Check for patterns in the response text to extract the data/info requested in each question.\n",
    "- Visit each url and take a look at its source through Chrome DevTools. You'll need to identify the html tags, special class names etc. used for the html content you are expected to extract."
   ]
  },
  {
   "cell_type": "markdown",
   "metadata": {},
   "source": [
    "- [Requests library](http://docs.python-requests.org/en/master/#the-user-guide) documentation \n",
    "- [Beautiful Soup Doc](https://www.crummy.com/software/BeautifulSoup/bs4/doc/)\n",
    "- [Urllib](https://docs.python.org/3/library/urllib.html#module-urllib)\n",
    "- [re lib](https://docs.python.org/3/library/re.html)\n",
    "- [lxml lib](https://lxml.de/)\n",
    "- [Scrapy](https://scrapy.org/)\n",
    "- [List of HTTP status codes](https://en.wikipedia.org/wiki/List_of_HTTP_status_codes)\n",
    "- [HTML basics](http://www.simplehtmlguide.com/cheatsheet.php)\n",
    "- [CSS basics](https://www.cssbasics.com/#page_start)"
   ]
  },
  {
   "cell_type": "markdown",
   "metadata": {},
   "source": [
    "#### Below are the libraries and modules you may need. `requests`,  `BeautifulSoup` and `pandas` are imported for you. If you prefer to use additional libraries feel free to uncomment them."
   ]
  },
  {
   "cell_type": "code",
   "execution_count": 1,
   "metadata": {},
   "outputs": [],
   "source": [
    "import requests\n",
    "from bs4 import BeautifulSoup\n",
    "import pandas as pd\n",
    "# from pprint import pprint\n",
    "# from lxml import html\n",
    "# from lxml.html import fromstring\n",
    "# import urllib.request\n",
    "# from urllib.request import urlopen\n",
    "# import random\n",
    "# import re\n",
    "# import scrapy"
   ]
  },
  {
   "cell_type": "markdown",
   "metadata": {},
   "source": [
    "#### Download, parse (using BeautifulSoup), and print the content from the Trending Developers page from GitHub:"
   ]
  },
  {
   "cell_type": "code",
   "execution_count": 2,
   "metadata": {},
   "outputs": [],
   "source": [
    "url = 'https://github.com/trending/developers'\n",
    "\n",
    "data = requests.get(url).text\n",
    "\n",
    "soup = BeautifulSoup(data, 'html.parser')\n",
    "# Dejo sin printear el soup para que no os aparezca todo el tochaco."
   ]
  },
  {
   "cell_type": "markdown",
   "metadata": {},
   "source": [
    "#### Display the names of the trending developers retrieved in the previous step.\n",
    "\n",
    "Your output should be a Python list of developer names. Each name should not contain any html tag.\n",
    "\n",
    "**Instructions:**\n",
    "\n",
    "1. Find out the html tag and class names used for the developer names. You can achieve this using Chrome DevTools.\n",
    "\n",
    "1. Use BeautifulSoup to extract all the html elements that contain the developer names.\n",
    "\n",
    "1. Use string manipulation techniques to replace whitespaces and linebreaks (i.e. `\\n`) in the *text* of each html element. Use a list to store the clean names.\n",
    "\n",
    "1. Print the list of names.\n",
    "\n",
    "Your output should look like below:\n",
    "\n",
    "```\n",
    "['trimstray (@trimstray)',\n",
    " 'joewalnes (JoeWalnes)',\n",
    " 'charlax (Charles-AxelDein)',\n",
    " 'ForrestKnight (ForrestKnight)',\n",
    " 'revery-ui (revery-ui)',\n",
    " 'alibaba (Alibaba)',\n",
    " 'Microsoft (Microsoft)',\n",
    " 'github (GitHub)',\n",
    " 'facebook (Facebook)',\n",
    " 'boazsegev (Bo)',\n",
    " 'google (Google)',\n",
    " 'cloudfetch',\n",
    " 'sindresorhus (SindreSorhus)',\n",
    " 'tensorflow',\n",
    " 'apache (TheApacheSoftwareFoundation)',\n",
    " 'DevonCrawford (DevonCrawford)',\n",
    " 'ARMmbed (ArmMbed)',\n",
    " 'vuejs (vuejs)',\n",
    " 'fastai (fast.ai)',\n",
    " 'QiShaoXuan (Qi)',\n",
    " 'joelparkerhenderson (JoelParkerHenderson)',\n",
    " 'torvalds (LinusTorvalds)',\n",
    " 'CyC2018',\n",
    " 'komeiji-satori (神楽坂覚々)',\n",
    " 'script-8']\n",
    " ```"
   ]
  },
  {
   "cell_type": "code",
   "execution_count": 3,
   "metadata": {},
   "outputs": [
    {
     "data": {
      "text/plain": [
       "['mattn (mattn)',\n",
       " 'Andreas Mueller (amueller)',\n",
       " 'Brian C (brianc)',\n",
       " 'Erik Schierboom (ErikSchierboom)',\n",
       " 'John Sundell (JohnSundell)',\n",
       " 'Siddharth Kshetrapal (siddharthkp)',\n",
       " 'Jason Williams (jasonwilliams)',\n",
       " 'Kyle Conroy (kyleconroy)',\n",
       " 'Anthony Sottile (asottile)',\n",
       " 'William Candillon (wcandillon)',\n",
       " 'Colin Rofls (cmyr)',\n",
       " 'Filip Skokan (panva)',\n",
       " 'Amila Welihinda (amilajack)',\n",
       " 'Kristoffer Carlsson (KristofferC)',\n",
       " 'Giulio Canti (gcanti)',\n",
       " 'greatghoul (greatghoul)',\n",
       " 'Miek Gieben (miekg)',\n",
       " 'Jesse Katsumata (Naturalclar)',\n",
       " 'Lucas Michot (lucasmichot)',\n",
       " 'Adam Geitgey (ageitgey)',\n",
       " 'Philipp Oppermann (phil-opp)',\n",
       " 'Tony Narlock (tony)',\n",
       " 'isaacs (isaacs)',\n",
       " 'Florian Rival (4ian)',\n",
       " 'Satyajit Sahoo (satya164)']"
      ]
     },
     "execution_count": 3,
     "metadata": {},
     "output_type": "execute_result"
    }
   ],
   "source": [
    "tag = soup.select('h1[class=\"h3 lh-condensed\"] a')\n",
    "\n",
    "def developers(tag):\n",
    "    return tag.attrs['href'],(tag.text)\n",
    "\n",
    "result = [developers(x) for x in tag]\n",
    "\n",
    "lista = []\n",
    "\n",
    "for x in result:\n",
    "    a = x[0].strip()\n",
    "    b = x[1].strip()\n",
    "    lista.append(b+' '+'('+a[1:]+')')\n",
    "    \n",
    "list(filter(lambda x: x,lista))"
   ]
  },
  {
   "cell_type": "markdown",
   "metadata": {},
   "source": [
    "#### Display the trending Python repositories in GitHub\n",
    "\n",
    "The steps to solve this problem is similar to the previous one except that you need to find out the repository names instead of developer names."
   ]
  },
  {
   "cell_type": "code",
   "execution_count": 4,
   "metadata": {},
   "outputs": [],
   "source": [
    "url = 'https://github.com/trending/python?since=daily'\n",
    "\n",
    "data = requests.get(url).text\n",
    "\n",
    "soup = BeautifulSoup(data, 'html.parser')\n",
    "# Dejo sin printear el soup para que no os aparezca todo el tochaco."
   ]
  },
  {
   "cell_type": "code",
   "execution_count": 5,
   "metadata": {},
   "outputs": [
    {
     "data": {
      "text/plain": [
       "['BlankerL/DXY-2019-nCoV-Crawler',\n",
       " 'gto76/python-cheatsheet',\n",
       " 'smicallef/spiderfoot',\n",
       " 'sebastianruder/NLP-progress',\n",
       " 'rish-16/sight',\n",
       " 'luong-komorebi/Awesome-Linux-Software',\n",
       " 'vinta/awesome-python',\n",
       " 'nicrusso7/rex-gym',\n",
       " 'baowenbo/DAIN',\n",
       " 'eastlakeside/interpy-zh',\n",
       " 'tiangolo/fastapi',\n",
       " 'explosion/thinc',\n",
       " 'willmcgugan/rich',\n",
       " 'MatthewPierson/Vieux',\n",
       " 'CCExtractor/vardbg',\n",
       " 'dragen1860/Deep-Learning-with-TensorFlow-book',\n",
       " 'brendangregg/bpf-perf-tools-book',\n",
       " 'googleapis/google-cloud-python',\n",
       " 'anchore/anchore-engine',\n",
       " 'aj-4/tinder-swipe-bot',\n",
       " 'pytorch/captum',\n",
       " 'samuelhwilliams/Eel',\n",
       " 'salesforce/policy_sentry',\n",
       " 'yzhao062/anomaly-detection-resources',\n",
       " 'vineetjohn/daily-coding-problem']"
      ]
     },
     "execution_count": 5,
     "metadata": {},
     "output_type": "execute_result"
    }
   ],
   "source": [
    "tag = soup.select('h1[class=\"h3 lh-condensed\"] a')\n",
    "\n",
    "def developers(tag):\n",
    "    return tag.attrs['href']\n",
    "\n",
    "result = [developers(x) for x in tag]\n",
    "\n",
    "lista = []\n",
    "\n",
    "for x in result:\n",
    "    lista.append(x[1:])\n",
    "    \n",
    "list(filter(lambda x: x,lista))"
   ]
  },
  {
   "cell_type": "markdown",
   "metadata": {},
   "source": [
    "#### Display all the image links from Walt Disney wikipedia page"
   ]
  },
  {
   "cell_type": "code",
   "execution_count": 6,
   "metadata": {},
   "outputs": [],
   "source": [
    "url = 'https://en.wikipedia.org/wiki/Walt_Disney'\n",
    "\n",
    "data = requests.get(url).text\n",
    "\n",
    "soup = BeautifulSoup(data, 'html.parser')\n",
    "# Dejo sin printear el soup para que no os aparezca todo el tochaco."
   ]
  },
  {
   "cell_type": "code",
   "execution_count": 7,
   "metadata": {},
   "outputs": [
    {
     "data": {
      "text/plain": [
       "['https://upload.wikimedia.org/wikipedia/commons/thumb/c/c4/Walt_Disney_envelope_ca._1921.jpg/220px-Walt_Disney_envelope_ca._1921.jpg',\n",
       " 'https://upload.wikimedia.org/wikipedia/commons/thumb/4/4d/Newman_Laugh-O-Gram_%281921%29.webm/220px-seek%3D2-Newman_Laugh-O-Gram_%281921%29.webm.jpg',\n",
       " 'https://upload.wikimedia.org/wikipedia/commons/thumb/0/0d/Trolley_Troubles_poster.jpg/170px-Trolley_Troubles_poster.jpg',\n",
       " 'https://upload.wikimedia.org/wikipedia/commons/thumb/7/71/Walt_Disney_and_his_cartoon_creation_%22Mickey_Mouse%22_-_National_Board_of_Review_Magazine.jpg/170px-Walt_Disney_and_his_cartoon_creation_%22Mickey_Mouse%22_-_National_Board_of_Review_Magazine.jpg',\n",
       " 'https://upload.wikimedia.org/wikipedia/en/thumb/4/4e/Steamboat-willie.jpg/170px-Steamboat-willie.jpg',\n",
       " 'https://upload.wikimedia.org/wikipedia/commons/thumb/5/57/Walt_Disney_1935.jpg/170px-Walt_Disney_1935.jpg',\n",
       " 'https://upload.wikimedia.org/wikipedia/commons/thumb/c/cd/Walt_Disney_Snow_white_1937_trailer_screenshot_%2813%29.jpg/220px-Walt_Disney_Snow_white_1937_trailer_screenshot_%2813%29.jpg',\n",
       " 'https://upload.wikimedia.org/wikipedia/commons/thumb/1/15/Disney_drawing_goofy.jpg/170px-Disney_drawing_goofy.jpg',\n",
       " 'https://upload.wikimedia.org/wikipedia/commons/thumb/1/13/DisneySchiphol1951.jpg/220px-DisneySchiphol1951.jpg',\n",
       " 'https://upload.wikimedia.org/wikipedia/commons/thumb/8/8c/WaltDisneyplansDisneylandDec1954.jpg/220px-WaltDisneyplansDisneylandDec1954.jpg',\n",
       " 'https://upload.wikimedia.org/wikipedia/commons/thumb/f/ff/Walt_disney_portrait_right.jpg/170px-Walt_disney_portrait_right.jpg',\n",
       " 'https://upload.wikimedia.org/wikipedia/commons/thumb/2/2d/Roy_O._Disney_with_Company_at_Press_Conference.jpg/170px-Roy_O._Disney_with_Company_at_Press_Conference.jpg',\n",
       " 'https://upload.wikimedia.org/wikipedia/commons/thumb/6/6c/Disney1968.jpg/170px-Disney1968.jpg',\n",
       " 'https://upload.wikimedia.org/wikipedia/commons/thumb/1/1a/Magic_Kingdom_castle.jpg/24px-Magic_Kingdom_castle.jpg']"
      ]
     },
     "execution_count": 7,
     "metadata": {},
     "output_type": "execute_result"
    }
   ],
   "source": [
    "tag = soup.select('img')\n",
    "\n",
    "def images(tag):\n",
    "    return tag.attrs['src']\n",
    "\n",
    "src = [images(x) for x in tag]\n",
    "                     \n",
    "lista = []\n",
    "\n",
    "for x in src:\n",
    "    if '.jpg' in x:\n",
    "        lista.append('https:'+x)\n",
    "\n",
    "list(filter(lambda x: x,lista))"
   ]
  },
  {
   "cell_type": "markdown",
   "metadata": {},
   "source": [
    "#### Retrieve an arbitary Wikipedia page of \"Python\" and create a list of links on that page"
   ]
  },
  {
   "cell_type": "code",
   "execution_count": 8,
   "metadata": {},
   "outputs": [],
   "source": [
    "url ='https://en.wikipedia.org/wiki/Python'\n",
    "\n",
    "data = requests.get(url).text\n",
    "\n",
    "soup = BeautifulSoup(data, 'html.parser')\n",
    "# Dejo sin printear el soup para que no os aparezca todo el tochaco."
   ]
  },
  {
   "cell_type": "code",
   "execution_count": 9,
   "metadata": {},
   "outputs": [
    {
     "data": {
      "text/plain": [
       "['https://en.wiktionary.org/wiki/Python',\n",
       " 'https://en.wiktionary.org/wiki/python',\n",
       " 'https://en.wikipedia.org/w/index.php?title=Special:WhatLinksHere/Python&namespace=0',\n",
       " 'https://af.wikipedia.org/wiki/Python',\n",
       " 'https://als.wikipedia.org/wiki/Python',\n",
       " 'https://az.wikipedia.org/wiki/Python',\n",
       " 'https://bn.wikipedia.org/wiki/%E0%A6%AA%E0%A6%BE%E0%A6%87%E0%A6%A5%E0%A6%A8_(%E0%A6%A6%E0%A7%8D%E0%A6%AC%E0%A7%8D%E0%A6%AF%E0%A6%B0%E0%A7%8D%E0%A6%A5%E0%A6%A4%E0%A6%BE_%E0%A6%A8%E0%A6%BF%E0%A6%B0%E0%A6%B8%E0%A6%A8)',\n",
       " 'https://be.wikipedia.org/wiki/Python',\n",
       " 'https://bg.wikipedia.org/wiki/%D0%9F%D0%B8%D1%82%D0%BE%D0%BD_(%D0%BF%D0%BE%D1%8F%D1%81%D0%BD%D0%B5%D0%BD%D0%B8%D0%B5)',\n",
       " 'https://cs.wikipedia.org/wiki/Python_(rozcestn%C3%ADk)',\n",
       " 'https://da.wikipedia.org/wiki/Python',\n",
       " 'https://de.wikipedia.org/wiki/Python',\n",
       " 'https://eo.wikipedia.org/wiki/Pitono_(apartigilo)',\n",
       " 'https://eu.wikipedia.org/wiki/Python_(argipena)',\n",
       " 'https://fa.wikipedia.org/wiki/%D9%BE%D8%A7%DB%8C%D8%AA%D9%88%D9%86',\n",
       " 'https://fr.wikipedia.org/wiki/Python',\n",
       " 'https://ko.wikipedia.org/wiki/%ED%8C%8C%EC%9D%B4%EC%84%A0',\n",
       " 'https://hr.wikipedia.org/wiki/Python_(razdvojba)',\n",
       " 'https://io.wikipedia.org/wiki/Pitono',\n",
       " 'https://id.wikipedia.org/wiki/Python',\n",
       " 'https://ia.wikipedia.org/wiki/Python_(disambiguation)',\n",
       " 'https://is.wikipedia.org/wiki/Python_(a%C3%B0greining)',\n",
       " 'https://it.wikipedia.org/wiki/Python_(disambigua)',\n",
       " 'https://he.wikipedia.org/wiki/%D7%A4%D7%99%D7%AA%D7%95%D7%9F',\n",
       " 'https://ka.wikipedia.org/wiki/%E1%83%9E%E1%83%98%E1%83%97%E1%83%9D%E1%83%9C%E1%83%98_(%E1%83%9B%E1%83%A0%E1%83%90%E1%83%95%E1%83%90%E1%83%9A%E1%83%9B%E1%83%9C%E1%83%98%E1%83%A8%E1%83%95%E1%83%9C%E1%83%94%E1%83%9A%E1%83%9D%E1%83%95%E1%83%90%E1%83%9C%E1%83%98)',\n",
       " 'https://kg.wikipedia.org/wiki/Mboma_(nyoka)',\n",
       " 'https://la.wikipedia.org/wiki/Python_(discretiva)',\n",
       " 'https://lb.wikipedia.org/wiki/Python',\n",
       " 'https://hu.wikipedia.org/wiki/Python_(egy%C3%A9rtelm%C5%B1s%C3%ADt%C5%91_lap)',\n",
       " 'https://mr.wikipedia.org/wiki/%E0%A4%AA%E0%A4%BE%E0%A4%AF%E0%A4%A5%E0%A5%89%E0%A4%A8_(%E0%A4%86%E0%A4%9C%E0%A5%8D%E0%A4%9E%E0%A4%BE%E0%A4%B5%E0%A4%B2%E0%A5%80_%E0%A4%AD%E0%A4%BE%E0%A4%B7%E0%A4%BE)',\n",
       " 'https://nl.wikipedia.org/wiki/Python',\n",
       " 'https://ja.wikipedia.org/wiki/%E3%83%91%E3%82%A4%E3%82%BD%E3%83%B3',\n",
       " 'https://no.wikipedia.org/wiki/Pyton',\n",
       " 'https://pl.wikipedia.org/wiki/Pyton',\n",
       " 'https://pt.wikipedia.org/wiki/Python_(desambigua%C3%A7%C3%A3o)',\n",
       " 'https://ru.wikipedia.org/wiki/Python_(%D0%B7%D0%BD%D0%B0%D1%87%D0%B5%D0%BD%D0%B8%D1%8F)',\n",
       " 'https://sk.wikipedia.org/wiki/Python',\n",
       " 'https://sr.wikipedia.org/wiki/%D0%9F%D0%B8%D1%82%D0%BE%D0%BD_(%D0%B2%D0%B8%D1%88%D0%B5%D0%B7%D0%BD%D0%B0%D1%87%D0%BD%D0%B0_%D0%BE%D0%B4%D1%80%D0%B5%D0%B4%D0%BD%D0%B8%D1%86%D0%B0)',\n",
       " 'https://sh.wikipedia.org/wiki/Python',\n",
       " 'https://fi.wikipedia.org/wiki/Python',\n",
       " 'https://sv.wikipedia.org/wiki/Pyton',\n",
       " 'https://th.wikipedia.org/wiki/%E0%B9%84%E0%B8%9E%E0%B8%97%E0%B8%AD%E0%B8%99',\n",
       " 'https://tr.wikipedia.org/wiki/Python',\n",
       " 'https://uk.wikipedia.org/wiki/%D0%9F%D1%96%D1%84%D0%BE%D0%BD',\n",
       " 'https://ur.wikipedia.org/wiki/%D9%BE%D8%A7%D8%A6%DB%8C%D8%AA%DA%BE%D9%88%D9%86',\n",
       " 'https://vi.wikipedia.org/wiki/Python',\n",
       " 'https://zh.wikipedia.org/wiki/Python_(%E6%B6%88%E6%AD%A7%E4%B9%89)',\n",
       " 'https://www.wikidata.org/wiki/Special:EntityPage/Q747452#sitelinks-wikipedia',\n",
       " 'https://foundation.wikimedia.org/wiki/Privacy_policy']"
      ]
     },
     "execution_count": 9,
     "metadata": {},
     "output_type": "execute_result"
    }
   ],
   "source": [
    "tag = soup.select('a[class]')\n",
    "\n",
    "def links(tag):\n",
    "    if 'href' not in x:\n",
    "        pass\n",
    "    return tag.attrs['href']\n",
    "\n",
    "link = [links(x) for x in tag]\n",
    "\n",
    "lista = []\n",
    "\n",
    "for x in link:\n",
    "    if 'http' in x:\n",
    "        lista.append(x)\n",
    "\n",
    "list(filter(lambda x: x,lista))"
   ]
  },
  {
   "cell_type": "markdown",
   "metadata": {},
   "source": [
    "#### Number of Titles that have changed in the United States Code since its last release point "
   ]
  },
  {
   "cell_type": "code",
   "execution_count": 10,
   "metadata": {},
   "outputs": [],
   "source": [
    "url = 'http://uscode.house.gov/download/download.shtml'\n",
    "\n",
    "data = requests.get(url).text\n",
    "\n",
    "soup = BeautifulSoup(data, 'html.parser')\n",
    "# Dejo sin printear el soup para que no os aparezca todo el tochaco."
   ]
  },
  {
   "cell_type": "code",
   "execution_count": 11,
   "metadata": {},
   "outputs": [
    {
     "name": "stdout",
     "output_type": "stream",
     "text": [
      "3\n"
     ]
    }
   ],
   "source": [
    "tag = soup.select('div[class=\"usctitlechanged\"]')\n",
    "\n",
    "def titles(tag):\n",
    "    return tag.text\n",
    "\n",
    "divs = [titles(title) for title in tag]\n",
    "\n",
    "lista = []\n",
    "\n",
    "for x in divs:\n",
    "    a = x.strip()\n",
    "    lista.append(a)\n",
    "\n",
    "print(len(lista))"
   ]
  },
  {
   "cell_type": "markdown",
   "metadata": {},
   "source": [
    "#### A Python list with the top ten FBI's Most Wanted names "
   ]
  },
  {
   "cell_type": "code",
   "execution_count": 12,
   "metadata": {},
   "outputs": [],
   "source": [
    "url = 'https://www.fbi.gov/wanted/topten'\n",
    "\n",
    "data = requests.get(url).text\n",
    "\n",
    "soup = BeautifulSoup(data, 'html.parser')\n",
    "# Dejo sin printear el soup para que no os aparezca todo el tochaco."
   ]
  },
  {
   "cell_type": "code",
   "execution_count": 13,
   "metadata": {},
   "outputs": [
    {
     "data": {
      "text/plain": [
       "['JASON DEREK BROWN',\n",
       " 'ALEXIS FLORES',\n",
       " 'EUGENE PALMER',\n",
       " 'SANTIAGO VILLALBA MEDEROS',\n",
       " 'RAFAEL CARO-QUINTERO',\n",
       " 'ROBERT WILLIAM FISHER',\n",
       " 'BHADRESHKUMAR CHETANBHAI PATEL',\n",
       " 'ARNOLDO JIMENEZ',\n",
       " 'ALEJANDRO ROSALES CASTILLO',\n",
       " 'YASER ABDEL SAID']"
      ]
     },
     "execution_count": 13,
     "metadata": {},
     "output_type": "execute_result"
    }
   ],
   "source": [
    "tag = soup.select('h3[class=\"title\"] a')\n",
    "\n",
    "def wanted(tag):\n",
    "    return tag.text\n",
    "\n",
    "result = [wanted(x) for x in tag]\n",
    "\n",
    "list(filter(lambda x: x,result))"
   ]
  },
  {
   "cell_type": "markdown",
   "metadata": {},
   "source": [
    "####  20 latest earthquakes info (date, time, latitude, longitude and region name) by the EMSC as a pandas dataframe"
   ]
  },
  {
   "cell_type": "code",
   "execution_count": 14,
   "metadata": {},
   "outputs": [],
   "source": [
    "url = 'https://www.emsc-csem.org/Earthquake/'\n",
    "\n",
    "data = requests.get(url).text\n",
    "\n",
    "soup = BeautifulSoup(data, 'html.parser')\n",
    "# Dejo sin printear el soup para que no os aparezca todo el tochaco."
   ]
  },
  {
   "cell_type": "code",
   "execution_count": 15,
   "metadata": {},
   "outputs": [
    {
     "data": {
      "text/html": [
       "<div>\n",
       "<style scoped>\n",
       "    .dataframe tbody tr th:only-of-type {\n",
       "        vertical-align: middle;\n",
       "    }\n",
       "\n",
       "    .dataframe tbody tr th {\n",
       "        vertical-align: top;\n",
       "    }\n",
       "\n",
       "    .dataframe thead th {\n",
       "        text-align: right;\n",
       "    }\n",
       "</style>\n",
       "<table border=\"1\" class=\"dataframe\">\n",
       "  <thead>\n",
       "    <tr style=\"text-align: right;\">\n",
       "      <th></th>\n",
       "      <th>Date &amp; Time</th>\n",
       "      <th>Latitude</th>\n",
       "      <th>Longitude</th>\n",
       "      <th>Region name</th>\n",
       "    </tr>\n",
       "  </thead>\n",
       "  <tbody>\n",
       "    <tr>\n",
       "      <th>0</th>\n",
       "      <td>2020-01-30   21:27:40.2</td>\n",
       "      <td>39.03</td>\n",
       "      <td>27.83</td>\n",
       "      <td>WESTERN TURKEY</td>\n",
       "    </tr>\n",
       "    <tr>\n",
       "      <th>1</th>\n",
       "      <td>2020-01-30   21:07:53.0</td>\n",
       "      <td>7.09</td>\n",
       "      <td>122.27</td>\n",
       "      <td>FLORES SEA</td>\n",
       "    </tr>\n",
       "    <tr>\n",
       "      <th>2</th>\n",
       "      <td>2020-01-30   21:05:51.7</td>\n",
       "      <td>38.21</td>\n",
       "      <td>38.71</td>\n",
       "      <td>EASTERN TURKEY</td>\n",
       "    </tr>\n",
       "    <tr>\n",
       "      <th>3</th>\n",
       "      <td>2020-01-30   21:00:10.7</td>\n",
       "      <td>38.83</td>\n",
       "      <td>119.77</td>\n",
       "      <td>NORTHERN CALIFORNIA</td>\n",
       "    </tr>\n",
       "    <tr>\n",
       "      <th>4</th>\n",
       "      <td>2020-01-30   20:51:04.3</td>\n",
       "      <td>38.42</td>\n",
       "      <td>39.00</td>\n",
       "      <td>EASTERN TURKEY</td>\n",
       "    </tr>\n",
       "    <tr>\n",
       "      <th>5</th>\n",
       "      <td>2020-01-30   20:46:22.0</td>\n",
       "      <td>16.43</td>\n",
       "      <td>95.01</td>\n",
       "      <td>OAXACA, MEXICO</td>\n",
       "    </tr>\n",
       "    <tr>\n",
       "      <th>6</th>\n",
       "      <td>2020-01-30   20:46:05.3</td>\n",
       "      <td>19.22</td>\n",
       "      <td>155.44</td>\n",
       "      <td>ISLAND OF HAWAII, HAWAII</td>\n",
       "    </tr>\n",
       "    <tr>\n",
       "      <th>7</th>\n",
       "      <td>2020-01-30   20:13:08.8</td>\n",
       "      <td>38.42</td>\n",
       "      <td>39.00</td>\n",
       "      <td>EASTERN TURKEY</td>\n",
       "    </tr>\n",
       "    <tr>\n",
       "      <th>8</th>\n",
       "      <td>2020-01-30   20:09:14.1</td>\n",
       "      <td>39.08</td>\n",
       "      <td>27.82</td>\n",
       "      <td>WESTERN TURKEY</td>\n",
       "    </tr>\n",
       "    <tr>\n",
       "      <th>9</th>\n",
       "      <td>2020-01-30   19:56:55.3</td>\n",
       "      <td>38.96</td>\n",
       "      <td>27.89</td>\n",
       "      <td>WESTERN TURKEY</td>\n",
       "    </tr>\n",
       "    <tr>\n",
       "      <th>10</th>\n",
       "      <td>2020-01-30   19:50:41.1</td>\n",
       "      <td>19.22</td>\n",
       "      <td>155.43</td>\n",
       "      <td>ISLAND OF HAWAII, HAWAII</td>\n",
       "    </tr>\n",
       "    <tr>\n",
       "      <th>11</th>\n",
       "      <td>2020-01-30   19:48:09.0</td>\n",
       "      <td>38.34</td>\n",
       "      <td>38.85</td>\n",
       "      <td>EASTERN TURKEY</td>\n",
       "    </tr>\n",
       "    <tr>\n",
       "      <th>12</th>\n",
       "      <td>2020-01-30   19:47:40.6</td>\n",
       "      <td>39.52</td>\n",
       "      <td>29.43</td>\n",
       "      <td>WESTERN TURKEY</td>\n",
       "    </tr>\n",
       "    <tr>\n",
       "      <th>13</th>\n",
       "      <td>2020-01-30   19:42:01.0</td>\n",
       "      <td>17.93</td>\n",
       "      <td>66.86</td>\n",
       "      <td>PUERTO RICO REGION</td>\n",
       "    </tr>\n",
       "    <tr>\n",
       "      <th>14</th>\n",
       "      <td>2020-01-30   19:32:48.0</td>\n",
       "      <td>2.46</td>\n",
       "      <td>98.99</td>\n",
       "      <td>NORTHERN SUMATRA, INDONESIA</td>\n",
       "    </tr>\n",
       "    <tr>\n",
       "      <th>15</th>\n",
       "      <td>2020-01-30   19:32:21.0</td>\n",
       "      <td>38.46</td>\n",
       "      <td>39.24</td>\n",
       "      <td>EASTERN TURKEY</td>\n",
       "    </tr>\n",
       "    <tr>\n",
       "      <th>16</th>\n",
       "      <td>2020-01-30   18:58:41.9</td>\n",
       "      <td>18.98</td>\n",
       "      <td>81.00</td>\n",
       "      <td>CAYMAN ISLANDS REGION</td>\n",
       "    </tr>\n",
       "    <tr>\n",
       "      <th>17</th>\n",
       "      <td>2020-01-30   18:56:47.6</td>\n",
       "      <td>38.99</td>\n",
       "      <td>27.87</td>\n",
       "      <td>WESTERN TURKEY</td>\n",
       "    </tr>\n",
       "    <tr>\n",
       "      <th>18</th>\n",
       "      <td>2020-01-30   18:43:40.8</td>\n",
       "      <td>35.19</td>\n",
       "      <td>27.96</td>\n",
       "      <td>DODECANESE ISLANDS, GREECE</td>\n",
       "    </tr>\n",
       "    <tr>\n",
       "      <th>19</th>\n",
       "      <td>2020-01-30   18:42:54.0</td>\n",
       "      <td>19.20</td>\n",
       "      <td>155.45</td>\n",
       "      <td>ISLAND OF HAWAII, HAWAII</td>\n",
       "    </tr>\n",
       "    <tr>\n",
       "      <th>20</th>\n",
       "      <td>2020-01-30   18:40:03.8</td>\n",
       "      <td>35.93</td>\n",
       "      <td>28.11</td>\n",
       "      <td>EASTERN MEDITERRANEAN SEA</td>\n",
       "    </tr>\n",
       "    <tr>\n",
       "      <th>21</th>\n",
       "      <td>2020-01-30   18:38:55.5</td>\n",
       "      <td>39.01</td>\n",
       "      <td>27.86</td>\n",
       "      <td>WESTERN TURKEY</td>\n",
       "    </tr>\n",
       "    <tr>\n",
       "      <th>22</th>\n",
       "      <td>2020-01-30   18:36:42.5</td>\n",
       "      <td>38.45</td>\n",
       "      <td>39.19</td>\n",
       "      <td>EASTERN TURKEY</td>\n",
       "    </tr>\n",
       "    <tr>\n",
       "      <th>23</th>\n",
       "      <td>2020-01-30   18:34:01.6</td>\n",
       "      <td>50.04</td>\n",
       "      <td>177.78</td>\n",
       "      <td>ANDREANOF ISLANDS, ALEUTIAN IS.</td>\n",
       "    </tr>\n",
       "    <tr>\n",
       "      <th>24</th>\n",
       "      <td>2020-01-30   18:28:47.1</td>\n",
       "      <td>38.20</td>\n",
       "      <td>38.73</td>\n",
       "      <td>EASTERN TURKEY</td>\n",
       "    </tr>\n",
       "    <tr>\n",
       "      <th>25</th>\n",
       "      <td>2020-01-30   18:28:36.3</td>\n",
       "      <td>39.03</td>\n",
       "      <td>27.85</td>\n",
       "      <td>WESTERN TURKEY</td>\n",
       "    </tr>\n",
       "    <tr>\n",
       "      <th>26</th>\n",
       "      <td>2020-01-30   18:26:20.9</td>\n",
       "      <td>35.25</td>\n",
       "      <td>27.97</td>\n",
       "      <td>DODECANESE ISLANDS, GREECE</td>\n",
       "    </tr>\n",
       "    <tr>\n",
       "      <th>27</th>\n",
       "      <td>2020-01-30   18:09:11.4</td>\n",
       "      <td>41.79</td>\n",
       "      <td>20.12</td>\n",
       "      <td>ALBANIA</td>\n",
       "    </tr>\n",
       "    <tr>\n",
       "      <th>28</th>\n",
       "      <td>2020-01-30   17:58:07.9</td>\n",
       "      <td>9.95</td>\n",
       "      <td>160.90</td>\n",
       "      <td>SOLOMON ISLANDS</td>\n",
       "    </tr>\n",
       "    <tr>\n",
       "      <th>29</th>\n",
       "      <td>2020-01-30   17:57:57.1</td>\n",
       "      <td>39.09</td>\n",
       "      <td>30.17</td>\n",
       "      <td>WESTERN TURKEY</td>\n",
       "    </tr>\n",
       "    <tr>\n",
       "      <th>30</th>\n",
       "      <td>2020-01-30   17:34:59.0</td>\n",
       "      <td>38.40</td>\n",
       "      <td>15.36</td>\n",
       "      <td>SICILY, ITALY</td>\n",
       "    </tr>\n",
       "    <tr>\n",
       "      <th>31</th>\n",
       "      <td>2020-01-30   17:29:59.7</td>\n",
       "      <td>35.09</td>\n",
       "      <td>95.22</td>\n",
       "      <td>OKLAHOMA</td>\n",
       "    </tr>\n",
       "    <tr>\n",
       "      <th>32</th>\n",
       "      <td>2020-01-30   17:29:14.5</td>\n",
       "      <td>35.31</td>\n",
       "      <td>28.03</td>\n",
       "      <td>EASTERN MEDITERRANEAN SEA</td>\n",
       "    </tr>\n",
       "    <tr>\n",
       "      <th>33</th>\n",
       "      <td>2020-01-30   17:26:26.5</td>\n",
       "      <td>19.45</td>\n",
       "      <td>155.19</td>\n",
       "      <td>ISLAND OF HAWAII, HAWAII</td>\n",
       "    </tr>\n",
       "    <tr>\n",
       "      <th>34</th>\n",
       "      <td>2020-01-30   17:21:08.1</td>\n",
       "      <td>17.97</td>\n",
       "      <td>66.78</td>\n",
       "      <td>PUERTO RICO REGION</td>\n",
       "    </tr>\n",
       "    <tr>\n",
       "      <th>35</th>\n",
       "      <td>2020-01-30   17:15:36.0</td>\n",
       "      <td>17.96</td>\n",
       "      <td>66.78</td>\n",
       "      <td>PUERTO RICO REGION</td>\n",
       "    </tr>\n",
       "    <tr>\n",
       "      <th>36</th>\n",
       "      <td>2020-01-30   17:10:27.5</td>\n",
       "      <td>17.96</td>\n",
       "      <td>66.76</td>\n",
       "      <td>PUERTO RICO REGION</td>\n",
       "    </tr>\n",
       "    <tr>\n",
       "      <th>37</th>\n",
       "      <td>2020-01-30   17:10:22.6</td>\n",
       "      <td>20.01</td>\n",
       "      <td>155.62</td>\n",
       "      <td>HAWAII REGION, HAWAII</td>\n",
       "    </tr>\n",
       "    <tr>\n",
       "      <th>38</th>\n",
       "      <td>2020-01-30   17:08:59.0</td>\n",
       "      <td>8.25</td>\n",
       "      <td>118.05</td>\n",
       "      <td>SUMBAWA REGION, INDONESIA</td>\n",
       "    </tr>\n",
       "    <tr>\n",
       "      <th>39</th>\n",
       "      <td>2020-01-30   17:07:34.0</td>\n",
       "      <td>36.70</td>\n",
       "      <td>121.33</td>\n",
       "      <td>CENTRAL CALIFORNIA</td>\n",
       "    </tr>\n",
       "    <tr>\n",
       "      <th>40</th>\n",
       "      <td>2020-01-30   17:06:15.8</td>\n",
       "      <td>17.98</td>\n",
       "      <td>66.86</td>\n",
       "      <td>PUERTO RICO</td>\n",
       "    </tr>\n",
       "    <tr>\n",
       "      <th>41</th>\n",
       "      <td>2020-01-30   16:59:40.3</td>\n",
       "      <td>19.39</td>\n",
       "      <td>155.28</td>\n",
       "      <td>ISLAND OF HAWAII, HAWAII</td>\n",
       "    </tr>\n",
       "    <tr>\n",
       "      <th>42</th>\n",
       "      <td>2020-01-30   16:48:05.9</td>\n",
       "      <td>19.42</td>\n",
       "      <td>155.28</td>\n",
       "      <td>ISLAND OF HAWAII, HAWAII</td>\n",
       "    </tr>\n",
       "    <tr>\n",
       "      <th>43</th>\n",
       "      <td>2020-01-30   16:31:34.5</td>\n",
       "      <td>69.15</td>\n",
       "      <td>147.06</td>\n",
       "      <td>NORTHERN ALASKA</td>\n",
       "    </tr>\n",
       "    <tr>\n",
       "      <th>44</th>\n",
       "      <td>2020-01-30   16:24:22.5</td>\n",
       "      <td>35.13</td>\n",
       "      <td>27.95</td>\n",
       "      <td>DODECANESE ISLANDS, GREECE</td>\n",
       "    </tr>\n",
       "    <tr>\n",
       "      <th>45</th>\n",
       "      <td>2020-01-30   16:20:41.0</td>\n",
       "      <td>35.38</td>\n",
       "      <td>28.05</td>\n",
       "      <td>EASTERN MEDITERRANEAN SEA</td>\n",
       "    </tr>\n",
       "    <tr>\n",
       "      <th>46</th>\n",
       "      <td>2020-01-30   16:07:04.6</td>\n",
       "      <td>35.66</td>\n",
       "      <td>117.48</td>\n",
       "      <td>SOUTHERN CALIFORNIA</td>\n",
       "    </tr>\n",
       "    <tr>\n",
       "      <th>47</th>\n",
       "      <td>2020-01-30   16:03:06.9</td>\n",
       "      <td>36.70</td>\n",
       "      <td>121.36</td>\n",
       "      <td>CENTRAL CALIFORNIA</td>\n",
       "    </tr>\n",
       "    <tr>\n",
       "      <th>48</th>\n",
       "      <td>2020-01-30   15:58:49.6</td>\n",
       "      <td>31.13</td>\n",
       "      <td>103.25</td>\n",
       "      <td>WESTERN TEXAS</td>\n",
       "    </tr>\n",
       "    <tr>\n",
       "      <th>49</th>\n",
       "      <td>2020-01-30   15:53:50.1</td>\n",
       "      <td>35.28</td>\n",
       "      <td>28.09</td>\n",
       "      <td>EASTERN MEDITERRANEAN SEA</td>\n",
       "    </tr>\n",
       "  </tbody>\n",
       "</table>\n",
       "</div>"
      ],
      "text/plain": [
       "                Date & Time  Latitude  Longitude  \\\n",
       "0   2020-01-30   21:27:40.2     39.03      27.83   \n",
       "1   2020-01-30   21:07:53.0      7.09     122.27   \n",
       "2   2020-01-30   21:05:51.7     38.21      38.71   \n",
       "3   2020-01-30   21:00:10.7     38.83     119.77   \n",
       "4   2020-01-30   20:51:04.3     38.42      39.00   \n",
       "5   2020-01-30   20:46:22.0     16.43      95.01   \n",
       "6   2020-01-30   20:46:05.3     19.22     155.44   \n",
       "7   2020-01-30   20:13:08.8     38.42      39.00   \n",
       "8   2020-01-30   20:09:14.1     39.08      27.82   \n",
       "9   2020-01-30   19:56:55.3     38.96      27.89   \n",
       "10  2020-01-30   19:50:41.1     19.22     155.43   \n",
       "11  2020-01-30   19:48:09.0     38.34      38.85   \n",
       "12  2020-01-30   19:47:40.6     39.52      29.43   \n",
       "13  2020-01-30   19:42:01.0     17.93      66.86   \n",
       "14  2020-01-30   19:32:48.0      2.46      98.99   \n",
       "15  2020-01-30   19:32:21.0     38.46      39.24   \n",
       "16  2020-01-30   18:58:41.9     18.98      81.00   \n",
       "17  2020-01-30   18:56:47.6     38.99      27.87   \n",
       "18  2020-01-30   18:43:40.8     35.19      27.96   \n",
       "19  2020-01-30   18:42:54.0     19.20     155.45   \n",
       "20  2020-01-30   18:40:03.8     35.93      28.11   \n",
       "21  2020-01-30   18:38:55.5     39.01      27.86   \n",
       "22  2020-01-30   18:36:42.5     38.45      39.19   \n",
       "23  2020-01-30   18:34:01.6     50.04     177.78   \n",
       "24  2020-01-30   18:28:47.1     38.20      38.73   \n",
       "25  2020-01-30   18:28:36.3     39.03      27.85   \n",
       "26  2020-01-30   18:26:20.9     35.25      27.97   \n",
       "27  2020-01-30   18:09:11.4     41.79      20.12   \n",
       "28  2020-01-30   17:58:07.9      9.95     160.90   \n",
       "29  2020-01-30   17:57:57.1     39.09      30.17   \n",
       "30  2020-01-30   17:34:59.0     38.40      15.36   \n",
       "31  2020-01-30   17:29:59.7     35.09      95.22   \n",
       "32  2020-01-30   17:29:14.5     35.31      28.03   \n",
       "33  2020-01-30   17:26:26.5     19.45     155.19   \n",
       "34  2020-01-30   17:21:08.1     17.97      66.78   \n",
       "35  2020-01-30   17:15:36.0     17.96      66.78   \n",
       "36  2020-01-30   17:10:27.5     17.96      66.76   \n",
       "37  2020-01-30   17:10:22.6     20.01     155.62   \n",
       "38  2020-01-30   17:08:59.0      8.25     118.05   \n",
       "39  2020-01-30   17:07:34.0     36.70     121.33   \n",
       "40  2020-01-30   17:06:15.8     17.98      66.86   \n",
       "41  2020-01-30   16:59:40.3     19.39     155.28   \n",
       "42  2020-01-30   16:48:05.9     19.42     155.28   \n",
       "43  2020-01-30   16:31:34.5     69.15     147.06   \n",
       "44  2020-01-30   16:24:22.5     35.13      27.95   \n",
       "45  2020-01-30   16:20:41.0     35.38      28.05   \n",
       "46  2020-01-30   16:07:04.6     35.66     117.48   \n",
       "47  2020-01-30   16:03:06.9     36.70     121.36   \n",
       "48  2020-01-30   15:58:49.6     31.13     103.25   \n",
       "49  2020-01-30   15:53:50.1     35.28      28.09   \n",
       "\n",
       "                         Region name  \n",
       "0                     WESTERN TURKEY  \n",
       "1                         FLORES SEA  \n",
       "2                     EASTERN TURKEY  \n",
       "3                NORTHERN CALIFORNIA  \n",
       "4                     EASTERN TURKEY  \n",
       "5                     OAXACA, MEXICO  \n",
       "6           ISLAND OF HAWAII, HAWAII  \n",
       "7                     EASTERN TURKEY  \n",
       "8                     WESTERN TURKEY  \n",
       "9                     WESTERN TURKEY  \n",
       "10          ISLAND OF HAWAII, HAWAII  \n",
       "11                    EASTERN TURKEY  \n",
       "12                    WESTERN TURKEY  \n",
       "13                PUERTO RICO REGION  \n",
       "14       NORTHERN SUMATRA, INDONESIA  \n",
       "15                    EASTERN TURKEY  \n",
       "16             CAYMAN ISLANDS REGION  \n",
       "17                    WESTERN TURKEY  \n",
       "18        DODECANESE ISLANDS, GREECE  \n",
       "19          ISLAND OF HAWAII, HAWAII  \n",
       "20         EASTERN MEDITERRANEAN SEA  \n",
       "21                    WESTERN TURKEY  \n",
       "22                    EASTERN TURKEY  \n",
       "23   ANDREANOF ISLANDS, ALEUTIAN IS.  \n",
       "24                    EASTERN TURKEY  \n",
       "25                    WESTERN TURKEY  \n",
       "26        DODECANESE ISLANDS, GREECE  \n",
       "27                           ALBANIA  \n",
       "28                   SOLOMON ISLANDS  \n",
       "29                    WESTERN TURKEY  \n",
       "30                     SICILY, ITALY  \n",
       "31                          OKLAHOMA  \n",
       "32         EASTERN MEDITERRANEAN SEA  \n",
       "33          ISLAND OF HAWAII, HAWAII  \n",
       "34                PUERTO RICO REGION  \n",
       "35                PUERTO RICO REGION  \n",
       "36                PUERTO RICO REGION  \n",
       "37             HAWAII REGION, HAWAII  \n",
       "38         SUMBAWA REGION, INDONESIA  \n",
       "39                CENTRAL CALIFORNIA  \n",
       "40                       PUERTO RICO  \n",
       "41          ISLAND OF HAWAII, HAWAII  \n",
       "42          ISLAND OF HAWAII, HAWAII  \n",
       "43                   NORTHERN ALASKA  \n",
       "44        DODECANESE ISLANDS, GREECE  \n",
       "45         EASTERN MEDITERRANEAN SEA  \n",
       "46               SOUTHERN CALIFORNIA  \n",
       "47                CENTRAL CALIFORNIA  \n",
       "48                     WESTERN TEXAS  \n",
       "49         EASTERN MEDITERRANEAN SEA  "
      ]
     },
     "metadata": {},
     "output_type": "display_data"
    }
   ],
   "source": [
    "tag = soup.select('tbody[id=\"tbody\"] tr')\n",
    "\n",
    "def earthquakes(tag):\n",
    "    a = tag.find_all('td')\n",
    "    return {\n",
    "        'Date & Time':a[3].find('a').text,\n",
    "        'Latitude':float((a[4].text)),\n",
    "        'Longitude':float((a[6].text)),\n",
    "        'Region name':a[11].text\n",
    "    }\n",
    "\n",
    "tables = [earthquakes(fila) for fila in tag]\n",
    "\n",
    "df = pd.DataFrame(tables)\n",
    "\n",
    "display(df)"
   ]
  },
  {
   "cell_type": "markdown",
   "metadata": {},
   "source": [
    "#### Display the date, days, title, city, country of next 25 hackathon events as a Pandas dataframe table"
   ]
  },
  {
   "cell_type": "code",
   "execution_count": 16,
   "metadata": {},
   "outputs": [],
   "source": [
    "url ='https://hackevents.co/hackathons'\n",
    "# NO DUNCIONA LA URL"
   ]
  },
  {
   "cell_type": "markdown",
   "metadata": {},
   "source": [
    "#### Count number of tweets by a given Twitter account."
   ]
  },
  {
   "cell_type": "markdown",
   "metadata": {},
   "source": [
    "You will need to include a ***try/except block*** for account names not found. \n",
    "<br>***Hint:*** the program should count the number of tweets for any provided account"
   ]
  },
  {
   "cell_type": "code",
   "execution_count": 17,
   "metadata": {},
   "outputs": [],
   "source": [
    "url = 'https://twitter.com/JimCarrey'\n",
    "\n",
    "data = requests.get(url).text\n",
    "\n",
    "soup = BeautifulSoup(data, 'html.parser')\n",
    "# Dejo sin printear el soup para que no os aparezca todo el tochaco."
   ]
  },
  {
   "cell_type": "code",
   "execution_count": 20,
   "metadata": {},
   "outputs": [
    {
     "name": "stdout",
     "output_type": "stream",
     "text": [
      "4.536\n",
      "            \n"
     ]
    }
   ],
   "source": [
    "tweets = soup.select('.ProfileNav-value')[0]\n",
    "\n",
    "print(tweets.text)"
   ]
  },
  {
   "cell_type": "markdown",
   "metadata": {},
   "source": [
    "#### Number of followers of a given twitter account"
   ]
  },
  {
   "cell_type": "markdown",
   "metadata": {},
   "source": [
    "You will need to include a ***try/except block*** in case account/s name not found. \n",
    "<br>***Hint:*** the program should count the followers for any provided account"
   ]
  },
  {
   "cell_type": "code",
   "execution_count": 21,
   "metadata": {},
   "outputs": [],
   "source": [
    "url = 'https://twitter.com/JimCarrey'\n",
    "\n",
    "data = requests.get(url).text\n",
    "\n",
    "soup = BeautifulSoup(data, 'html.parser')\n",
    "# Dejo sin printear el soup para que no os aparezca todo el tochaco."
   ]
  },
  {
   "cell_type": "code",
   "execution_count": 22,
   "metadata": {},
   "outputs": [
    {
     "name": "stdout",
     "output_type": "stream",
     "text": [
      "18,5 M\n"
     ]
    }
   ],
   "source": [
    "followers = soup.select('.ProfileNav-value')[2]\n",
    "\n",
    "print(followers.text)"
   ]
  },
  {
   "cell_type": "markdown",
   "metadata": {},
   "source": [
    "#### List all language names and number of related articles in the order they appear in wikipedia.org"
   ]
  },
  {
   "cell_type": "code",
   "execution_count": 23,
   "metadata": {},
   "outputs": [],
   "source": [
    "url = 'https://www.wikipedia.org/'\n",
    "\n",
    "data = requests.get(url).text\n",
    "\n",
    "soup = BeautifulSoup(data, 'html.parser')\n",
    "# Dejo sin printear el soup para que no os aparezca todo el tochaco."
   ]
  },
  {
   "cell_type": "code",
   "execution_count": 45,
   "metadata": {},
   "outputs": [
    {
     "name": "stdout",
     "output_type": "stream",
     "text": [
      "[('English', '5\\xa0994\\xa0000+'), ('æ\\x97¥æ\\x9c¬èª\\x9e', '1\\xa0185\\xa0000+'), ('Deutsch', '2\\xa0385\\xa0000+'), ('EspaÃ±ol', '1\\xa0571\\xa0000+'), ('Ð\\xa0Ñ\\x83Ñ\\x81Ñ\\x81ÐºÐ¸Ð¹', '1\\xa0590\\xa0000+'), ('FranÃ§ais', '2\\xa0171\\xa0000+'), ('Italiano', '1\\xa0576\\xa0000+'), ('ä¸\\xadæ\\x96\\x87', '1\\xa0090\\xa0000+'), ('PortuguÃªs', '1\\xa0018\\xa0000+'), ('Polski', '1\\xa0379\\xa0000+')]\n"
     ]
    }
   ],
   "source": [
    "tag = soup.select('a[class=\"link-box\"]')\n",
    "\n",
    "def languages(tag):\n",
    "    a = tag.find('strong').text\n",
    "    b = tag.find('bdi').text\n",
    "    return a, b \n",
    "\n",
    "result = [languages(x) for x in tag]\n",
    "\n",
    "print(result)"
   ]
  },
  {
   "cell_type": "markdown",
   "metadata": {},
   "source": [
    "#### A list with the different kind of datasets available in data.gov.uk "
   ]
  },
  {
   "cell_type": "code",
   "execution_count": 46,
   "metadata": {},
   "outputs": [],
   "source": [
    "url = 'https://data.gov.uk/'\n",
    "\n",
    "data = requests.get(url).text\n",
    "\n",
    "soup = BeautifulSoup(data, 'html.parser')\n",
    "# Dejo sin printear el soup para que no os aparezca todo el tochaco."
   ]
  },
  {
   "cell_type": "code",
   "execution_count": 55,
   "metadata": {},
   "outputs": [
    {
     "data": {
      "text/plain": [
       "['Business and economy',\n",
       " 'Crime and justice',\n",
       " 'Defence',\n",
       " 'Education',\n",
       " 'Environment',\n",
       " 'Government',\n",
       " 'Government spending',\n",
       " 'Health',\n",
       " 'Mapping',\n",
       " 'Society',\n",
       " 'Towns and cities',\n",
       " 'Transport']"
      ]
     },
     "execution_count": 55,
     "metadata": {},
     "output_type": "execute_result"
    }
   ],
   "source": [
    "tag = soup.select('h2 a')\n",
    "\n",
    "def datasets(tag):\n",
    "    return tag.text\n",
    "\n",
    "result = [datasets(x) for x in tag]\n",
    "\n",
    "list(filter(lambda x: x,result))"
   ]
  },
  {
   "cell_type": "markdown",
   "metadata": {},
   "source": [
    "#### Top 10 languages by number of native speakers stored in a Pandas Dataframe"
   ]
  },
  {
   "cell_type": "code",
   "execution_count": null,
   "metadata": {},
   "outputs": [],
   "source": [
    "# This is the url you will scrape in this exercise\n",
    "url = 'https://en.wikipedia.org/wiki/List_of_languages_by_number_of_native_speakers'"
   ]
  },
  {
   "cell_type": "code",
   "execution_count": null,
   "metadata": {},
   "outputs": [],
   "source": [
    "#your code"
   ]
  },
  {
   "cell_type": "markdown",
   "metadata": {},
   "source": [
    "### BONUS QUESTIONS"
   ]
  },
  {
   "cell_type": "markdown",
   "metadata": {},
   "source": [
    "#### Scrape a certain number of tweets of a given Twitter account."
   ]
  },
  {
   "cell_type": "code",
   "execution_count": null,
   "metadata": {},
   "outputs": [],
   "source": [
    "# This is the url you will scrape in this exercise \n",
    "# You will need to add the account credentials to this url\n",
    "url = 'https://twitter.com/'"
   ]
  },
  {
   "cell_type": "code",
   "execution_count": null,
   "metadata": {},
   "outputs": [],
   "source": [
    "# your code"
   ]
  },
  {
   "cell_type": "markdown",
   "metadata": {},
   "source": [
    "#### IMDB's Top 250 data (movie name, Initial release, director name and stars) as a pandas dataframe"
   ]
  },
  {
   "cell_type": "code",
   "execution_count": null,
   "metadata": {},
   "outputs": [],
   "source": [
    "# This is the url you will scrape in this exercise \n",
    "url = 'https://www.imdb.com/chart/top'"
   ]
  },
  {
   "cell_type": "code",
   "execution_count": null,
   "metadata": {},
   "outputs": [],
   "source": [
    "# your code"
   ]
  },
  {
   "cell_type": "markdown",
   "metadata": {},
   "source": [
    "#### Movie name, year and a brief summary of the top 10 random movies (IMDB) as a pandas dataframe."
   ]
  },
  {
   "cell_type": "code",
   "execution_count": null,
   "metadata": {},
   "outputs": [],
   "source": [
    "#This is the url you will scrape in this exercise\n",
    "url = 'http://www.imdb.com/chart/top'"
   ]
  },
  {
   "cell_type": "code",
   "execution_count": null,
   "metadata": {},
   "outputs": [],
   "source": [
    "#your code"
   ]
  },
  {
   "cell_type": "markdown",
   "metadata": {},
   "source": [
    "#### Find the live weather report (temperature, wind speed, description and weather) of a given city."
   ]
  },
  {
   "cell_type": "code",
   "execution_count": null,
   "metadata": {},
   "outputs": [],
   "source": [
    "#https://openweathermap.org/current\n",
    "city = city=input('Enter the city:')\n",
    "url = 'http://api.openweathermap.org/data/2.5/weather?'+'q='+city+'&APPID=b35975e18dc93725acb092f7272cc6b8&units=metric'"
   ]
  },
  {
   "cell_type": "code",
   "execution_count": null,
   "metadata": {},
   "outputs": [],
   "source": [
    "# your code"
   ]
  },
  {
   "cell_type": "markdown",
   "metadata": {},
   "source": [
    "#### Book name,price and stock availability as a pandas dataframe."
   ]
  },
  {
   "cell_type": "code",
   "execution_count": null,
   "metadata": {},
   "outputs": [],
   "source": [
    "# This is the url you will scrape in this exercise. \n",
    "# It is a fictional bookstore created to be scraped. \n",
    "url = 'http://books.toscrape.com/'"
   ]
  },
  {
   "cell_type": "code",
   "execution_count": null,
   "metadata": {},
   "outputs": [],
   "source": [
    "#your code"
   ]
  }
 ],
 "metadata": {
  "kernelspec": {
   "display_name": "Python 3",
   "language": "python",
   "name": "python3"
  },
  "language_info": {
   "codemirror_mode": {
    "name": "ipython",
    "version": 3
   },
   "file_extension": ".py",
   "mimetype": "text/x-python",
   "name": "python",
   "nbconvert_exporter": "python",
   "pygments_lexer": "ipython3",
   "version": "3.6.9"
  }
 },
 "nbformat": 4,
 "nbformat_minor": 2
}
